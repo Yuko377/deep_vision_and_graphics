{
 "cells": [
  {
   "cell_type": "markdown",
   "metadata": {
    "cellId": "hsbyb4tyki9nx32utdtjpk",
    "id": "71AQJg3CDMn9"
   },
   "source": [
    "# Homework - ConvNeXt and all the King's horses\n",
    "\n",
    "\n",
    "Let's check how ConvNeXt architecture looks like and which training technics were used to make it work"
   ]
  },
  {
   "cell_type": "markdown",
   "metadata": {},
   "source": [
    "This homework assumes than you have already solved the previous homework.\n",
    "\n",
    "The homework contains three parts:\n",
    "\n",
    "1. Implementation of some staff for ConvNeXt network definition\n",
    "2. Implementation of some other staff for effective training\n",
    "3. Experiments with model averaging, label smoothing and layer norm\n"
   ]
  },
  {
   "cell_type": "markdown",
   "metadata": {},
   "source": [
    "# 1. Prerequesites: dataset and data loaders\n",
    "\n",
    "We will continue to use Tiny-Imagenet dataset. So let's download it in a way, how we did it in the previous homework."
   ]
  },
  {
   "cell_type": "code",
   "execution_count": null,
   "metadata": {
    "cellId": "k1eayz1ur2mqly9zrk5my",
    "id": "sCvh1ICbHNCE",
    "scrolled": true
   },
   "outputs": [],
   "source": [
    "#!S:bash\n",
    "# if you are in colab, just add '!' in the start of the following line\n",
    "! wget --no-check-certificate 'https://raw.githubusercontent.com/yandexdataschool/deep_vision_and_graphics/fall21/homework01/tiny_img.py' -O tiny_img.py\n",
    "! wget --no-check-certificate 'https://raw.githubusercontent.com/yandexdataschool/deep_vision_and_graphics/fall21/homework01/tiny_img_dataset.py' -O tiny_img_dataset.py"
   ]
  },
  {
   "cell_type": "code",
   "execution_count": 1,
   "metadata": {
    "cellId": "5nh892g5zpl9qv5fki8vpk",
    "execution": {
     "iopub.execute_input": "2024-09-26T12:54:20.503122Z",
     "iopub.status.busy": "2024-09-26T12:54:20.502048Z",
     "iopub.status.idle": "2024-09-26T12:56:29.185376Z",
     "shell.execute_reply": "2024-09-26T12:56:29.184578Z",
     "shell.execute_reply.started": "2024-09-26T12:54:20.503076Z"
    },
    "id": "5rQhiYyRDMoG",
    "tags": []
   },
   "outputs": [
    {
     "name": "stdout",
     "output_type": "stream",
     "text": [
      "Dataset was already downloaded to './tiny-imagenet-200.zip'. Skip downloading\n",
      "Extract downloaded dataset to '.'\n"
     ]
    }
   ],
   "source": [
    "#!L\n",
    "from tiny_img import download_tinyImg200\n",
    "data_path = '.'\n",
    "download_tinyImg200(data_path)"
   ]
  },
  {
   "cell_type": "markdown",
   "metadata": {},
   "source": [
    "We will also need some code from the previous homework, that defines training data augmentations and represents validation data as dataset (class `TinyImagenetValDataset` below). Feel free to copy-paste the code from your solution of the previous homework. "
   ]
  },
  {
   "cell_type": "code",
   "execution_count": 1,
   "metadata": {
    "cellId": "g2i37mixtk9kkxkki1y8",
    "execution": {
     "iopub.execute_input": "2024-09-27T12:49:08.415789Z",
     "iopub.status.busy": "2024-09-27T12:49:08.414695Z",
     "iopub.status.idle": "2024-09-27T12:49:16.735274Z",
     "shell.execute_reply": "2024-09-27T12:49:16.734435Z",
     "shell.execute_reply.started": "2024-09-27T12:49:08.415742Z"
    },
    "id": "rS_-00tYDMoB",
    "tags": []
   },
   "outputs": [
    {
     "name": "stdout",
     "output_type": "stream",
     "text": [
      "Our main computing device is 'cuda:0'\n"
     ]
    }
   ],
   "source": [
    "#!L\n",
    "import torch\n",
    "import torchvision\n",
    "from torchvision import transforms\n",
    "import tqdm\n",
    "\n",
    "def get_computing_device():\n",
    "    if torch.cuda.is_available():\n",
    "        device = torch.device('cuda:0')\n",
    "    else:\n",
    "        device = torch.device('cpu')\n",
    "    return device\n",
    "\n",
    "device = get_computing_device()\n",
    "print(f\"Our main computing device is '{device}'\")"
   ]
  },
  {
   "cell_type": "code",
   "execution_count": 3,
   "metadata": {
    "execution": {
     "iopub.execute_input": "2024-09-27T12:49:49.178909Z",
     "iopub.status.busy": "2024-09-27T12:49:49.177361Z",
     "iopub.status.idle": "2024-09-27T12:49:49.198718Z",
     "shell.execute_reply": "2024-09-27T12:49:49.197864Z",
     "shell.execute_reply.started": "2024-09-27T12:49:49.178862Z"
    },
    "tags": []
   },
   "outputs": [],
   "source": [
    "#!L\n",
    "\n",
    "train_trainsforms = transforms.Compose(\n",
    "    [transforms.RandomHorizontalFlip(),\n",
    "     transforms.ToTensor(),\n",
    "     transforms.RandomRotation(5),\n",
    "     # YOUR CODE : copy-paste your transform parameters for color jitter from the previous homework\n",
    "     transforms.ColorJitter(brightness=0.2, contrast=0.2, saturation=0.2, hue=0.15),\n",
    "     # you may add any other transforms here but color jitter should be enough\n",
    "    ]\n",
    ")"
   ]
  },
  {
   "cell_type": "code",
   "execution_count": 4,
   "metadata": {
    "cellId": "jrzsbgniodgtg1hif324k9",
    "execution": {
     "iopub.execute_input": "2024-09-27T12:49:52.944853Z",
     "iopub.status.busy": "2024-09-27T12:49:52.943712Z",
     "iopub.status.idle": "2024-09-27T12:54:02.827055Z",
     "shell.execute_reply": "2024-09-27T12:54:02.826181Z",
     "shell.execute_reply.started": "2024-09-27T12:49:52.944783Z"
    },
    "id": "5vq5Cm0ADMoK",
    "tags": []
   },
   "outputs": [
    {
     "name": "stderr",
     "output_type": "stream",
     "text": [
      "tiny-imagenet-200/train: 100%|██████████| 200/200 [04:08<00:00,  1.24s/it]\n"
     ]
    }
   ],
   "source": [
    "#!L\n",
    "import tiny_img_dataset\n",
    "# you may use torchvision.datasets.ImageFolder() with the same parameters for loading train dataset \n",
    "train_dataset = tiny_img_dataset.TinyImagenetRAM('tiny-imagenet-200/train', transform=train_trainsforms)"
   ]
  },
  {
   "cell_type": "markdown",
   "metadata": {},
   "source": [
    "One more block from the previous homework that we will need here (fill free to copy-paste it from your previous solution)"
   ]
  },
  {
   "cell_type": "code",
   "execution_count": 5,
   "metadata": {
    "execution": {
     "iopub.execute_input": "2024-09-27T12:54:02.829520Z",
     "iopub.status.busy": "2024-09-27T12:54:02.828494Z",
     "iopub.status.idle": "2024-09-27T12:54:02.866207Z",
     "shell.execute_reply": "2024-09-27T12:54:02.865340Z",
     "shell.execute_reply.started": "2024-09-27T12:54:02.829483Z"
    },
    "tags": []
   },
   "outputs": [],
   "source": [
    "from torch.utils.data import Dataset\n",
    "import os\n",
    "from PIL import Image\n",
    "\n",
    "class TinyImagenetValDataset(Dataset):\n",
    "    def __init__(self, root, transform=transforms.ToTensor()):\n",
    "        super().__init__()\n",
    "\n",
    "        self.root = root\n",
    "        with open(os.path.join(root, 'val_annotations.txt')) as f:\n",
    "            annotations = []\n",
    "            for line in f:\n",
    "                img_name, class_label = line.split('\\t')[:2]\n",
    "                annotations.append((img_name, class_label))\n",
    "\n",
    "        # 1. define self.classes - list of sorted class labels from annotations\n",
    "        # it should look like self.classes from \"TinyImagenetRAM\"\n",
    "        # YOUR CODE\n",
    "        self.classes = sorted(list(set([annot[1] for annot in annotations])))\n",
    "        \n",
    "        assert len(self.classes) == 200, len(self.classes)\n",
    "        assert all(self.classes[i] < self.classes[i+1] for i in range(len(self.classes)-1)), 'classes should be ordered'\n",
    "        assert all(isinstance(elem, type(annotations[0][1])) for elem in self.classes), 'your just need to reuse class_labels'\n",
    "\n",
    "        # 2. self.class_to_idx - dict from class label to class index\n",
    "        self.class_to_idx = {item: index for index, item in enumerate(self.classes)}\n",
    "\n",
    "        self.transform = transform\n",
    "\n",
    "        self.images, self.targets = [], []\n",
    "        for img_name, class_name in tqdm.tqdm(annotations, desc=root):\n",
    "            img_name = os.path.join(root, 'images', img_name)\n",
    "            # 3. load image and store it in self.images (your may want to use tiny_img_dataset.read_rgb_image)\n",
    "            # store the class index in self.targets\n",
    "            # YOUR CODE\n",
    "            image =  tiny_img_dataset.read_rgb_image(img_name)\n",
    "\n",
    "            assert image.shape == (64, 64, 3), image.shape\n",
    "            self.images.append(Image.fromarray(image))\n",
    "            self.targets.append(self.class_to_idx[class_name])\n",
    "\n",
    "    def __len__(self):\n",
    "        return len(self.images)\n",
    "\n",
    "    def __getitem__(self, index):\n",
    "        # take image and its target label from \"self.images\" and \"self.targets\", \n",
    "        # transform the image using self.transform and return the transformed image and its target label\n",
    "        \n",
    "        # YOUR CODE\n",
    "        image = self.images[index]\n",
    "        image = self.transform(image)\n",
    "        target = self.targets[index]\n",
    "\n",
    "        return image, target"
   ]
  },
  {
   "cell_type": "code",
   "execution_count": 6,
   "metadata": {
    "execution": {
     "iopub.execute_input": "2024-09-27T12:54:02.867960Z",
     "iopub.status.busy": "2024-09-27T12:54:02.867443Z",
     "iopub.status.idle": "2024-09-27T12:54:33.623938Z",
     "shell.execute_reply": "2024-09-27T12:54:33.623086Z",
     "shell.execute_reply.started": "2024-09-27T12:54:02.867913Z"
    },
    "tags": []
   },
   "outputs": [
    {
     "name": "stderr",
     "output_type": "stream",
     "text": [
      "tiny-imagenet-200/val: 100%|██████████| 10000/10000 [00:30<00:00, 325.70it/s]\n"
     ]
    }
   ],
   "source": [
    "#!L\n",
    "\n",
    "val_dataset = TinyImagenetValDataset('tiny-imagenet-200/val', transform=transforms.ToTensor())\n",
    "\n",
    "assert all(train_dataset.classes[i] == val_dataset.classes[i] for i in range(200)), \\\n",
    "    'class order in train and val datasets should be the same'\n",
    "assert all(train_dataset.class_to_idx[elem] == val_dataset.class_to_idx[elem] for elem in train_dataset.classes), \\\n",
    "    'class indices should be the same'"
   ]
  },
  {
   "cell_type": "code",
   "execution_count": 7,
   "metadata": {
    "cellId": "6md8io0fesfby4r9per3jb",
    "execution": {
     "iopub.execute_input": "2024-09-27T12:54:33.627149Z",
     "iopub.status.busy": "2024-09-27T12:54:33.625930Z",
     "iopub.status.idle": "2024-09-27T12:54:33.645500Z",
     "shell.execute_reply": "2024-09-27T12:54:33.644637Z",
     "shell.execute_reply.started": "2024-09-27T12:54:33.627106Z"
    },
    "id": "tY6OUeOODMoN",
    "tags": []
   },
   "outputs": [],
   "source": [
    "#!L\n",
    "batch_size = 64\n",
    "train_batch_gen = torch.utils.data.DataLoader(train_dataset, \n",
    "                                              batch_size=batch_size,\n",
    "                                              shuffle=True,\n",
    "                                              num_workers=4)"
   ]
  },
  {
   "cell_type": "code",
   "execution_count": 8,
   "metadata": {
    "cellId": "hsq566ut87vokpkiq68",
    "execution": {
     "iopub.execute_input": "2024-09-27T12:54:33.647611Z",
     "iopub.status.busy": "2024-09-27T12:54:33.646602Z",
     "iopub.status.idle": "2024-09-27T12:54:33.664575Z",
     "shell.execute_reply": "2024-09-27T12:54:33.663557Z",
     "shell.execute_reply.started": "2024-09-27T12:54:33.647574Z"
    },
    "id": "HBgW-gzwDMoQ",
    "tags": []
   },
   "outputs": [],
   "source": [
    "#!L\n",
    "val_batch_gen = torch.utils.data.DataLoader(val_dataset, \n",
    "                                            batch_size=batch_size,\n",
    "                                            shuffle=False,\n",
    "                                            num_workers=4)"
   ]
  },
  {
   "cell_type": "markdown",
   "metadata": {},
   "source": [
    "# 2. ConvNeXt architecture"
   ]
  },
  {
   "cell_type": "code",
   "execution_count": 9,
   "metadata": {
    "execution": {
     "iopub.execute_input": "2024-09-27T12:54:33.667385Z",
     "iopub.status.busy": "2024-09-27T12:54:33.665687Z",
     "iopub.status.idle": "2024-09-27T12:54:33.684014Z",
     "shell.execute_reply": "2024-09-27T12:54:33.683158Z",
     "shell.execute_reply.started": "2024-09-27T12:54:33.667207Z"
    },
    "tags": []
   },
   "outputs": [],
   "source": [
    "#!L\n",
    "import torch, torch.nn as nn\n",
    "import torch.nn.functional as F\n",
    "import numpy as np"
   ]
  },
  {
   "cell_type": "markdown",
   "metadata": {},
   "source": [
    "What are the key differences between resnet-50 and ConvNeXt architectures?\n",
    "- stem redesign: single conv layer with kernel size 4 and stride 4 instead of combination of conv layer and max pooling (+0.1%)\n",
    "- stage ratio 1:1:3:1 or 1:1:9:1 (+0.6%)\n",
    "- depthwise separable convolutions (introduced in ResNeXt) with inverted bottlenecks (introduced in MobileNet v2) (+1.1%)\n",
    "- some micro design changes: fewer activations, fewer normalization layers, GELU and LN usage (+0.9%)\n",
    "- replacing strided convolutions in blocks on separate downscale convolutions (+0.5%)\n",
    "- improved training technics (+2.7%)\n",
    "  - Longer training (90 -> 300 epochs) \n",
    "  - AdamW optimizer, warm-up, cosine scheduler (we will discuss it in seminar 3).\n",
    "  - Advanced data augmentation techniques: Mixup, Cutmix, RandAugment, Random Erasing (we will discuss it in seminar 3)\n",
    "  - Regularization schemes: Stochastic Depth, Label Smoothing\n",
    "  - LayerScale\n",
    "  - exponential moving average on network weights"
   ]
  },
  {
   "cell_type": "markdown",
   "metadata": {},
   "source": [
    "<table>\n",
    "    <tr>\n",
    "        <td><h3>Architecture</h3></td>\n",
    "        <td><h3>Improvements</h3></td>\n",
    "    </tr>\n",
    "    <tr>\n",
    "        <td><img src=\"./convnext_arch.png\" alt=\"drawing\" width=\"500\"/></td>\n",
    "        <td><img src=\"./convnext_impr.png\" alt=\"drawing\" width=\"500\"/></td>\n",
    "    </tr>\n",
    "</table>"
   ]
  },
  {
   "cell_type": "markdown",
   "metadata": {},
   "source": [
    "## 2.1 ConvNeXt block design\n",
    "\n",
    "Here is how a single block looks like\n",
    "\n",
    "<img src=\"./convnext_block.png\" alt=\"drawing\" width=\"200\"/>"
   ]
  },
  {
   "cell_type": "markdown",
   "metadata": {},
   "source": [
    "### 2.1.1 Depthwise convolutions\n",
    "\n",
    "Depthwise convolutions is the special case of group convolutions. Here is a good illustration of how group convolution works:\n",
    "\n",
    "<img src=\"./group_conv.png\" alt=\"drawing\" width=\"500\"/>\n",
    "\n",
    "([image credit](https://cvml-expertguide.net/terms/dl/layers/convolution-layer/grouped-convolution/))\n",
    "\n",
    "Group convolution takes 4d tensor of shape [N,C,H,W] as input, splits it evenly on K groups (K is hyperparameter; K=4 in image above) along the channel dimension, applies vanilla 2d convolution to each group with their own kernels and then concat the output tensors along the channel dimension.\n",
    "\n",
    "In depthwise convolution number of groups is equal to the number of input channels C. It is usually followed by \"pointwise convolution\" - convolution with 1x1 kernel, which changes the number of output channels.\n",
    "\n",
    "<img src=\"./dw_conv.png\" alt=\"drawing\" width=\"500\"/>\n",
    "\n",
    "([image credit](https://www.researchgate.net/figure/Depthwise-separable-convolutions_fig1_358585116))\n",
    "\n",
    "The number of output channels in depthwise convolution by design is greater or equal than number of input channels (why?). For group convolutions the number of output channels could not be less than the number of groups."
   ]
  },
  {
   "cell_type": "markdown",
   "metadata": {},
   "source": [
    "Here is how you can implement depthwise convolution 7x7 in pytorch:"
   ]
  },
  {
   "cell_type": "code",
   "execution_count": 10,
   "metadata": {
    "execution": {
     "iopub.execute_input": "2024-09-27T12:54:33.686931Z",
     "iopub.status.busy": "2024-09-27T12:54:33.685717Z",
     "iopub.status.idle": "2024-09-27T12:54:33.769352Z",
     "shell.execute_reply": "2024-09-27T12:54:33.768526Z",
     "shell.execute_reply.started": "2024-09-27T12:54:33.686889Z"
    },
    "tags": []
   },
   "outputs": [],
   "source": [
    "n_input_channels = 96\n",
    "n_output_channels = 192\n",
    "# TODO: examine nn.Conv2d doc and create depthwise conv layer with 96 input channels, 192 output channels, 7x7 kernel\n",
    "layer = nn.Conv2d(in_channels=96, out_channels=192, kernel_size=7, groups=96)\n",
    "\n",
    "parameters_size = sum([elem.size().numel() for elem in layer.parameters()])\n",
    "assert parameters_size == (7*7*192 + 192), parameters_size"
   ]
  },
  {
   "cell_type": "markdown",
   "metadata": {},
   "source": [
    "Note that amount of parameters for kernel is 7x7x192. Vanilla Conv2d would have 7x7x192x96 parameters in kernel under the same settings."
   ]
  },
  {
   "cell_type": "markdown",
   "metadata": {},
   "source": [
    "### 2.1.2 LayerNorm and GELU\n",
    "\n",
    "You are parially familiar with LayerNorm and GELU layers from lecture 2. And we will discuss these layers on lecture 3 and seminar 3. \n",
    "\n",
    "What is important to know here is that the authors of ConvNeXt replaced ReLU with GELU and BatchNorm with LayerNorm and got some improvements (+0.1%).\n",
    "\n",
    "In the experiments section below we will check if LayerNorm really helps in our training setup."
   ]
  },
  {
   "cell_type": "markdown",
   "metadata": {},
   "source": [
    "But before we start, let's implement simple wrapper over nn.LayerNorm so than it would work with 4d tensors more like batch norm does. BatchNorm2D expects to work with [N,C,H,W] tensors and normalizes the channel dimension. nn.LayerNorm normalizes the last dimension of the input tensor.\n",
    "\n",
    "So let's permute dimensions in LayerNorm2d forward() method, apply the standard nn.LayerNorm to the new tensor and permute its dimensions back."
   ]
  },
  {
   "cell_type": "code",
   "execution_count": 11,
   "metadata": {
    "execution": {
     "iopub.execute_input": "2024-09-27T12:54:33.770877Z",
     "iopub.status.busy": "2024-09-27T12:54:33.770375Z",
     "iopub.status.idle": "2024-09-27T12:54:33.782965Z",
     "shell.execute_reply": "2024-09-27T12:54:33.782181Z",
     "shell.execute_reply.started": "2024-09-27T12:54:33.770843Z"
    },
    "tags": []
   },
   "outputs": [],
   "source": [
    "class LayerNorm2d(nn.Module):\n",
    "    def __init__(self, dim):\n",
    "        super().__init__()\n",
    "        self.ln = nn.LayerNorm(dim)\n",
    "        \n",
    "    def forward(self, x):\n",
    "        # TODO: YOUR CODE\n",
    "        # 1. permute tensor dimensions so that channel dim became the last\n",
    "        # 2. apply self.ln\n",
    "        # 3. permute tensor dimensions back\n",
    "        x = x.permute((0, 2, 3, 1))\n",
    "        x = self.ln(x)\n",
    "        x = x.permute((0, 3, 1, 2))\n",
    "\n",
    "        return x"
   ]
  },
  {
   "cell_type": "code",
   "execution_count": 12,
   "metadata": {
    "execution": {
     "iopub.execute_input": "2024-09-27T12:54:33.784499Z",
     "iopub.status.busy": "2024-09-27T12:54:33.784Z",
     "iopub.status.idle": "2024-09-27T12:54:33.876216Z",
     "shell.execute_reply": "2024-09-27T12:54:33.875388Z",
     "shell.execute_reply.started": "2024-09-27T12:54:33.784464Z"
    },
    "tags": []
   },
   "outputs": [
    {
     "name": "stdout",
     "output_type": "stream",
     "text": [
      "torch.Size([2, 5, 4, 3])\n"
     ]
    }
   ],
   "source": [
    "x = torch.rand((2, 5, 4, 3))\n",
    "layer = LayerNorm2d(5)\n",
    "out = layer(x)\n",
    "print(out.size())\n",
    "assert out.size() == x.size()\n",
    "parameters_size = sum([elem.size().numel() for elem in layer.parameters()])\n",
    "assert parameters_size == 10, parameters_size  # 5 for channel weights and 5 for biases"
   ]
  },
  {
   "cell_type": "markdown",
   "metadata": {},
   "source": [
    "### 2.1.3 LayerScale"
   ]
  },
  {
   "cell_type": "markdown",
   "metadata": {},
   "source": [
    "LayerScale is a technique used to force residual branch to work more like residual branch.\n",
    "<table>\n",
    "    <tr>\n",
    "        <td><center><h4>Original residual branch for transformer</h4></center></td>\n",
    "        <td><center><h4>Residual branch with LayerScale</h4></center></td>\n",
    "    </tr>\n",
    "    <tr>\n",
    "        <td><center><img src=\"./layer_scale-orig_residual.png\" alt=\"drawing\" height=\"400\"/></center></td>\n",
    "        <td><center><img src=\"./layer_scale-new_residual.png\" alt=\"drawing\" height=\"400\"/></center></td>\n",
    "    </tr>\n",
    "</table>\n",
    "\n",
    "LayerScale downscales residual branch output with some (learnable) weights which are very small at the begining (1e-6 in our experiments and in paper) but can become larger during training.\n",
    "\n",
    "Scaling is applied to each channel independenly. Here is implementation of the layer:"
   ]
  },
  {
   "cell_type": "code",
   "execution_count": 13,
   "metadata": {
    "execution": {
     "iopub.execute_input": "2024-09-27T12:54:33.880882Z",
     "iopub.status.busy": "2024-09-27T12:54:33.879727Z",
     "iopub.status.idle": "2024-09-27T12:54:33.911177Z",
     "shell.execute_reply": "2024-09-27T12:54:33.910239Z",
     "shell.execute_reply.started": "2024-09-27T12:54:33.880842Z"
    },
    "tags": []
   },
   "outputs": [],
   "source": [
    "class LayerScale2d(nn.Module):\n",
    "    def __init__(self, dim, layer_scale_init_value):\n",
    "        super().__init__()\n",
    "        self.gamma = nn.Parameter(layer_scale_init_value * torch.ones((dim, 1, 1)), requires_grad=True)\n",
    "        \n",
    "    def forward(self, x):\n",
    "        # YOUR CODE: just scale x on self.gamma\n",
    "        x = x * self.gamma\n",
    "        return x"
   ]
  },
  {
   "cell_type": "code",
   "execution_count": 14,
   "metadata": {
    "execution": {
     "iopub.execute_input": "2024-09-27T12:54:33.914125Z",
     "iopub.status.busy": "2024-09-27T12:54:33.912300Z",
     "iopub.status.idle": "2024-09-27T12:54:34.021906Z",
     "shell.execute_reply": "2024-09-27T12:54:34.021010Z",
     "shell.execute_reply.started": "2024-09-27T12:54:33.914079Z"
    },
    "tags": []
   },
   "outputs": [],
   "source": [
    "x = torch.rand((2, 5, 4, 3))\n",
    "layer_scale_init_value = 1e-5\n",
    "layer = LayerScale2d(5, layer_scale_init_value)\n",
    "out = layer(x)\n",
    "assert out.size() == x.size()\n",
    "assert np.allclose(out.detach().numpy(), x.numpy()*layer_scale_init_value)"
   ]
  },
  {
   "cell_type": "code",
   "execution_count": 15,
   "metadata": {
    "execution": {
     "iopub.execute_input": "2024-09-27T12:54:34.025073Z",
     "iopub.status.busy": "2024-09-27T12:54:34.022978Z",
     "iopub.status.idle": "2024-09-27T12:54:34.172926Z",
     "shell.execute_reply": "2024-09-27T12:54:34.172117Z",
     "shell.execute_reply.started": "2024-09-27T12:54:34.025032Z"
    },
    "tags": []
   },
   "outputs": [
    {
     "name": "stdout",
     "output_type": "stream",
     "text": [
      "tensor([[[0.1492, 0.9906],\n",
      "         [0.0998, 0.2237]],\n",
      "\n",
      "        [[0.4285, 0.8853],\n",
      "         [0.8201, 0.1226]],\n",
      "\n",
      "        [[0.4651, 0.1025],\n",
      "         [0.7058, 0.3320]]])\n",
      "tensor([[[0.2984, 1.9813],\n",
      "         [0.1996, 0.4475]],\n",
      "\n",
      "        [[0.8570, 1.7705],\n",
      "         [1.6402, 0.2453]],\n",
      "\n",
      "        [[0.9303, 0.2050],\n",
      "         [1.4115, 0.6640]]], grad_fn=<MulBackward0>)\n"
     ]
    }
   ],
   "source": [
    "x = torch.rand((3, 2, 2))\n",
    "print(x)\n",
    "layer_scale_init_value = 2\n",
    "layer = LayerScale2d(3, layer_scale_init_value)\n",
    "out = layer(x)\n",
    "print(out)"
   ]
  },
  {
   "cell_type": "markdown",
   "metadata": {},
   "source": [
    "### 2.1.4 Stochastic Depth"
   ]
  },
  {
   "cell_type": "markdown",
   "metadata": {},
   "source": [
    "Stochastic depth was introduced in [paper](https://arxiv.org/pdf/1603.09382.pdf) as a way of overfitting reduction. You can think of it as about dropout on residual branches. Block with residual connection with stochastic depth module looks like `y = x + DropPath(ResidualNet(x))` instead of classic `y = x + ResidualNet(x)`\n",
    "\n",
    "Let's implement `DropPath` module. Its only parameter is `drop_prob` - probability to zero-out its input. Don't forget to devide the result on `(1-drop_prob)` in order to fix mean value of output in train mode (as it is usually done in `Dropout` layer).\n",
    "\n",
    "(This layer will be also discussed in seminar dedicated to vision transformers)"
   ]
  },
  {
   "cell_type": "code",
   "execution_count": 16,
   "metadata": {
    "execution": {
     "iopub.execute_input": "2024-09-27T12:54:34.174760Z",
     "iopub.status.busy": "2024-09-27T12:54:34.174002Z",
     "iopub.status.idle": "2024-09-27T12:54:34.190180Z",
     "shell.execute_reply": "2024-09-27T12:54:34.189348Z",
     "shell.execute_reply.started": "2024-09-27T12:54:34.174725Z"
    },
    "tags": []
   },
   "outputs": [],
   "source": [
    "#!L\n",
    "\n",
    "class DropPath(nn.Module):\n",
    "    def __init__(self, drop_prob=None):\n",
    "        super(DropPath, self).__init__()\n",
    "        self.drop_prob = drop_prob\n",
    "\n",
    "    def forward(self, x):\n",
    "        if self.drop_prob == 0. or not self.training:\n",
    "            return x\n",
    "        keep_prob = 1 - self.drop_prob\n",
    "        shape = (x.shape[0],) + (1,) * (x.ndim - 1)  # work with diff dim tensors, not just 2D ConvNets\n",
    "        # YOUR CODE: generate random tensor, binarize it, cast to x.dtype, multiply x by the mask, \n",
    "        # devide the result on keep_prob\n",
    "        random_tensor = torch.rand(shape)\n",
    "        mask = random_tensor > self.drop_prob\n",
    "        mask = mask.type(x.type())\n",
    "        output = x * mask / keep_prob\n",
    "        return output"
   ]
  },
  {
   "cell_type": "code",
   "execution_count": 17,
   "metadata": {
    "execution": {
     "iopub.execute_input": "2024-09-27T12:54:34.191624Z",
     "iopub.status.busy": "2024-09-27T12:54:34.191194Z",
     "iopub.status.idle": "2024-09-27T12:54:34.217561Z",
     "shell.execute_reply": "2024-09-27T12:54:34.216521Z",
     "shell.execute_reply.started": "2024-09-27T12:54:34.191595Z"
    },
    "tags": []
   },
   "outputs": [
    {
     "name": "stdout",
     "output_type": "stream",
     "text": [
      "tensor([[[0.4237, 0.0871],\n",
      "         [0.8751, 0.3968]],\n",
      "\n",
      "        [[0.7367, 0.2420],\n",
      "         [0.1860, 0.5679]],\n",
      "\n",
      "        [[0.3224, 0.7494],\n",
      "         [0.7910, 0.9720]]])\n",
      "tensor([[[1., 0.],\n",
      "         [1., 1.]],\n",
      "\n",
      "        [[1., 0.],\n",
      "         [0., 1.]],\n",
      "\n",
      "        [[1., 1.],\n",
      "         [1., 1.]]])\n"
     ]
    }
   ],
   "source": [
    "x = torch.rand((3, 2, 2))\n",
    "print(x)\n",
    "a = x > 0.3\n",
    "print(a.type(x.type()))"
   ]
  },
  {
   "cell_type": "code",
   "execution_count": 18,
   "metadata": {
    "execution": {
     "iopub.execute_input": "2024-09-27T12:54:34.221043Z",
     "iopub.status.busy": "2024-09-27T12:54:34.220086Z",
     "iopub.status.idle": "2024-09-27T12:54:34.308617Z",
     "shell.execute_reply": "2024-09-27T12:54:34.307746Z",
     "shell.execute_reply.started": "2024-09-27T12:54:34.221007Z"
    },
    "tags": []
   },
   "outputs": [],
   "source": [
    "layer = DropPath(0.5)\n",
    "\n",
    "x = torch.rand((10,5,4,3))\n",
    "\n",
    "layer.eval()\n",
    "out = layer(x)\n",
    "assert out.size() == x.size()\n",
    "assert (out == x).all()\n",
    "\n",
    "layer.train()\n",
    "out = layer(x)\n",
    "assert out.size() == x.size()\n",
    "dropped_samples_mask = torch.isclose(out, torch.zeros([1])).all(dim=1).all(dim=1).all(dim=1)\n",
    "n_dropped_samples = dropped_samples_mask.to(float).sum()\n",
    "assert n_dropped_samples > 2 and n_dropped_samples < 8, n_dropped_samples\n",
    "\n",
    "layer = DropPath(0.1)\n",
    "out = layer(x)\n",
    "dropped_samples_mask = torch.isclose(out, torch.zeros([1])).all(dim=1).all(dim=1).all(dim=1)\n",
    "scaled_samples_mask = torch.isclose(out, x/0.9).all(dim=1).all(dim=1).all(dim=1)\n",
    "assert torch.logical_or(dropped_samples_mask, scaled_samples_mask).all()                                                    "
   ]
  },
  {
   "cell_type": "markdown",
   "metadata": {},
   "source": [
    "### 2.1.5 Putting it all together"
   ]
  },
  {
   "cell_type": "markdown",
   "metadata": {},
   "source": [
    "Once again, image of ConvNeXt block\n",
    "\n",
    "<img src=\"./convnext_block.png\" alt=\"drawing\" width=\"200\"/>\n",
    "\n",
    "The only thing that is not shown on the image is `DropPath` block which should be applied in the end of residual branch just after `LayerScale2d`\n",
    "\n",
    "We will create `ConvNextBlock` that can operates with `LayerNorm2d` and `BatchNorm2d` depending on parameter `use_bn` and will check what will perform better in our experiments. "
   ]
  },
  {
   "cell_type": "code",
   "execution_count": 19,
   "metadata": {
    "execution": {
     "iopub.execute_input": "2024-09-27T12:54:34.309959Z",
     "iopub.status.busy": "2024-09-27T12:54:34.309482Z",
     "iopub.status.idle": "2024-09-27T12:54:34.322624Z",
     "shell.execute_reply": "2024-09-27T12:54:34.321862Z",
     "shell.execute_reply.started": "2024-09-27T12:54:34.309926Z"
    },
    "tags": []
   },
   "outputs": [],
   "source": [
    "#!L\n",
    "\n",
    "class ConvNextBlock(nn.Module):\n",
    "    def __init__(self, dim, drop_rate=0., layer_scale_init_value=1e-6, use_bn=False):\n",
    "        super().__init__()\n",
    "        \n",
    "        # YOUR CODE: define self.depthwise_conv  self.pointwise_conv1 self.pointwise_conv2\n",
    "        self.depthwise_conv = nn.Conv2d(in_channels=dim, out_channels=dim, kernel_size=5, padding=2, groups=dim)  # depthwise conv 5x5, padding 2, dim->dim\n",
    "        \n",
    "        self.norm = LayerNorm2d(dim) if not use_bn else nn.BatchNorm2d(dim)\n",
    "        \n",
    "        self.pointwise_conv1 = nn.Conv2d(in_channels=dim, out_channels=dim*4, kernel_size=1)  # 1x1 conv, dim -> dim*4  YOUR CODE\n",
    "\n",
    "        self.activation = nn.GELU()\n",
    "        \n",
    "        self.pointwise_conv2 = nn.Conv2d(in_channels=dim*4, out_channels=dim, kernel_size=1)  # 1x1 conv, 4*dim -> dim YOUR CODE\n",
    "\n",
    "        self.layer_scale = LayerScale2d(dim, layer_scale_init_value) if layer_scale_init_value > 0 else nn.Identity()\n",
    "        self.drop_path = DropPath(drop_rate) if drop_rate is not None and drop_rate > 0. else nn.Identity()\n",
    "\n",
    "    def forward(self, x):\n",
    "        input = x\n",
    "        # YOUR CODE: sequentially apply to x: depthwise_conv + norm + pointwise_conv1 + activation + pointwise_conv2 + layer_scale\n",
    "        x = self.depthwise_conv(x)\n",
    "        x = self.norm(x)\n",
    "        x = self.pointwise_conv1(x)\n",
    "        x = self.activation(x)\n",
    "        x = self.pointwise_conv2(x)\n",
    "        x = self.layer_scale(x)\n",
    "\n",
    "        x = input + self.drop_path(x)\n",
    "        return x\n"
   ]
  },
  {
   "cell_type": "code",
   "execution_count": 20,
   "metadata": {
    "execution": {
     "iopub.execute_input": "2024-09-27T12:54:34.323947Z",
     "iopub.status.busy": "2024-09-27T12:54:34.323482Z",
     "iopub.status.idle": "2024-09-27T12:54:34.524088Z",
     "shell.execute_reply": "2024-09-27T12:54:34.523197Z",
     "shell.execute_reply.started": "2024-09-27T12:54:34.323896Z"
    },
    "tags": []
   },
   "outputs": [
    {
     "name": "stdout",
     "output_type": "stream",
     "text": [
      "182 182\n"
     ]
    }
   ],
   "source": [
    "block_w_ln = ConvNextBlock(7, 0.1, 1e-6, use_bn=False)\n",
    "\n",
    "x = torch.rand([2,7,4,3])\n",
    "out = block_w_ln(x)\n",
    "\n",
    "assert out.size() == x.size()\n",
    "n_dwconv_parameters = sum([elem.size().numel() for elem in block_w_ln.depthwise_conv.parameters()])\n",
    "print(n_dwconv_parameters, 5*5*7 + 7)\n",
    "assert n_dwconv_parameters == 5*5*7 + 7\n",
    "n_pwconv1_parameters = sum([elem.size().numel() for elem in block_w_ln.pointwise_conv1.parameters()])\n",
    "assert n_pwconv1_parameters == 7*7*4 + 7*4\n",
    "n_pwconv2_parameters = sum([elem.size().numel() for elem in block_w_ln.pointwise_conv2.parameters()])\n",
    "assert n_pwconv2_parameters == 7*7*4 + 7"
   ]
  },
  {
   "cell_type": "code",
   "execution_count": 21,
   "metadata": {
    "execution": {
     "iopub.execute_input": "2024-09-27T12:54:34.526313Z",
     "iopub.status.busy": "2024-09-27T12:54:34.525332Z",
     "iopub.status.idle": "2024-09-27T12:54:34.585992Z",
     "shell.execute_reply": "2024-09-27T12:54:34.585235Z",
     "shell.execute_reply.started": "2024-09-27T12:54:34.526277Z"
    },
    "tags": []
   },
   "outputs": [],
   "source": [
    "block_w_bn = ConvNextBlock(7, 0.1, 1e-6, use_bn=True)\n",
    "\n",
    "x = torch.rand([2,7,4,3])\n",
    "out = block_w_bn(x)\n",
    "assert out.size() == x.size()\n",
    "\n",
    "n_block1_parameters = sum([elem.size().numel() for elem in block_w_ln.parameters()])\n",
    "n_block2_parameters = sum([elem.size().numel() for elem in block_w_bn.parameters()])\n",
    "assert n_block1_parameters == n_block2_parameters"
   ]
  },
  {
   "cell_type": "markdown",
   "metadata": {},
   "source": [
    "## 2.2 ConvNeXt-like arch for Tiny-Imagenet\n",
    "\n",
    "Since images in tiny-imagenet are 4x downsampled version of imagenet images, we are going to design our own network configuration by reducing: 1) amount of layers; 2) amount of neurons in layers; 3) amount of downsampling layers which downsample feature maps.\n",
    "\n",
    "Here is our network config:\n",
    "1. Stem: Conv 2x2 with stride 2, output features = 32 (instead of conv 4x4 with stride 4)\n",
    "2. Three block levels:\n",
    "   - [dwise conv5x5, ch=32; conv1x1, ch=128; conv1x1, ch=32] x 2 + downsampling block\n",
    "   - [dwise conv5x5, ch=64; conv1x1, ch=256; conv1x1, ch=64] x 2 + downsampling block\n",
    "   - [dwise conv5x5, ch=128; conv1x1, ch=512; conv1x1, ch=128] x 2\n",
    "3. Global average pooling + FC(200) + softmax\n",
    "\n",
    "Network config is inspired by the network configs used in the previous homework. It's rather designed to provide fast training and experiments conducting in the current homework and doesn't pretend on being optimal choice w.r.t accuracy/speed trade-off."
   ]
  },
  {
   "cell_type": "code",
   "execution_count": 22,
   "metadata": {
    "cellId": "f985tf2dvssqwmyc6w99d",
    "execution": {
     "iopub.execute_input": "2024-09-27T12:54:34.588984Z",
     "iopub.status.busy": "2024-09-27T12:54:34.586855Z",
     "iopub.status.idle": "2024-09-27T12:54:34.637442Z",
     "shell.execute_reply": "2024-09-27T12:54:34.636605Z",
     "shell.execute_reply.started": "2024-09-27T12:54:34.588941Z"
    },
    "id": "u_mbfRXMDMob",
    "tags": []
   },
   "outputs": [],
   "source": [
    "#!L\n",
    "class GlobalAveragePool(nn.Module):\n",
    "    def __init__(self, dim):\n",
    "        super().__init__()\n",
    "        self.dim = dim\n",
    "        \n",
    "    def forward(self, x):\n",
    "        return torch.mean(x, dim=self.dim)"
   ]
  },
  {
   "cell_type": "code",
   "execution_count": 23,
   "metadata": {
    "execution": {
     "iopub.execute_input": "2024-09-27T12:54:34.640133Z",
     "iopub.status.busy": "2024-09-27T12:54:34.638614Z",
     "iopub.status.idle": "2024-09-27T12:54:34.663758Z",
     "shell.execute_reply": "2024-09-27T12:54:34.662708Z",
     "shell.execute_reply.started": "2024-09-27T12:54:34.640094Z"
    },
    "tags": []
   },
   "outputs": [],
   "source": [
    "def create_stem(out_channels, use_bn):\n",
    "    return nn.Sequential(\n",
    "        nn.Conv2d(in_channels=3, out_channels=out_channels, kernel_size=2, stride=2, padding=0), # YOUR CODE; conv 2x2, stride 2, padding 0\n",
    "        nn.BatchNorm2d(out_channels) if use_bn else LayerNorm2d(out_channels)\n",
    "    )\n",
    "\n",
    "def create_downscale_block(in_channels, out_channels, use_bn):\n",
    "    return nn.Sequential(\n",
    "        nn.BatchNorm2d(in_channels) if use_bn else LayerNorm2d(in_channels),\n",
    "        nn.Conv2d(in_channels=in_channels, out_channels=out_channels, kernel_size=2, stride=2, padding=0)  # YOUR CODE: conv 2x2, stride 2, padding 0\n",
    "    )"
   ]
  },
  {
   "cell_type": "code",
   "execution_count": 24,
   "metadata": {
    "execution": {
     "iopub.execute_input": "2024-09-27T12:54:34.665401Z",
     "iopub.status.busy": "2024-09-27T12:54:34.664893Z",
     "iopub.status.idle": "2024-09-27T12:54:34.686605Z",
     "shell.execute_reply": "2024-09-27T12:54:34.685797Z",
     "shell.execute_reply.started": "2024-09-27T12:54:34.665366Z"
    },
    "tags": []
   },
   "outputs": [],
   "source": [
    "def create_convnext_like_network(config=None, use_bn=False, drop_rate=None):\n",
    "    \"\"\"\n",
    "    Creates ConvNeXt like network according to config\n",
    "    \"\"\"\n",
    "    model = nn.Sequential()\n",
    "\n",
    "    default_config = [[32, 32], [64, 64], [128, 128]]\n",
    "    config = config or default_config\n",
    "\n",
    "    stem_out_channels = config[0][0]\n",
    "    # YOUR CODE: create stem\n",
    "    model.add_module('stem', create_stem(stem_out_channels, use_bn))\n",
    "\n",
    "    # progressivily increase drop rate from 0 to 'drop_rate' \n",
    "    drop_rates = np.linspace(0, drop_rate, sum([len(e) for e in config])) if drop_rate is not None else None\n",
    "    \n",
    "    layer_index = 0\n",
    "    for block_index in range(len(config)):\n",
    "        for layer_index_in_block in range(len(config[block_index])):\n",
    "            out_channels = config[block_index][layer_index_in_block]\n",
    "            layer_drop_rate = drop_rates[layer_index] if drop_rates is not None else None\n",
    "            \n",
    "            # YOUR CODE: add ConvNextBlock\n",
    "            model.add_module(f\"{block_index}_{layer_index_in_block}\", ConvNextBlock(dim=out_channels, drop_rate=layer_drop_rate, use_bn=use_bn))\n",
    "            layer_index += 1\n",
    "            \n",
    "        if block_index != len(config) - 1:\n",
    "            downscale_in_channels = out_channels\n",
    "            downscale_out_channels = config[block_index+1][0]\n",
    "            # YOUR CODE: add downscale block\n",
    "            model.add_module(f'downscale_{block_index}', create_downscale_block(downscale_in_channels, downscale_out_channels, use_bn))\n",
    "            \n",
    "    model.add_module('pool', GlobalAveragePool(dim=(2,3)))\n",
    "    model.add_module('norm_final', nn.BatchNorm1d(out_channels) if use_bn else nn.LayerNorm(out_channels))\n",
    "    model.add_module('logits', nn.Linear(out_channels, 200))\n",
    "    return model"
   ]
  },
  {
   "cell_type": "markdown",
   "metadata": {},
   "source": [
    "# 3. Training technics\n"
   ]
  },
  {
   "cell_type": "markdown",
   "metadata": {},
   "source": [
    "## 3.1 Label smooting\n"
   ]
  },
  {
   "cell_type": "markdown",
   "metadata": {},
   "source": [
    "Label smoothing is a regularization thechnique that slightly changes gt distributions of classes allowing positive class gt probability be less than 1.0. In fact it introduces one hyperparameter `label_smoothing` in cross-entropy and makes positive class gt prob equal to `1.0 - label_smoothing + label_smoothing/n_classes` and negative classes gt prob equal to `label_smooting / n_classes`.\n",
    "\n",
    "It helps with optimization on datasets with complex intra-class dependencies when it's hard to zero-out all negative classes probabilities. You can imagine a classic imagenet-like situation, when a neural network should distinguish several dozens of dog breeds. It's a hard task for human and in practice we don't need probabilities for all negative classes to be zeroed-out. What we need is any network prediction when the gt class probability is larger than all other class probabilities.  Introducing small positive probability on negative classes helps neural network to work better in these cases."
   ]
  },
  {
   "cell_type": "code",
   "execution_count": 25,
   "metadata": {
    "cellId": "3y7p7o6s7vecpf3kpktj8v",
    "execution": {
     "iopub.execute_input": "2024-09-27T12:54:34.688892Z",
     "iopub.status.busy": "2024-09-27T12:54:34.687504Z",
     "iopub.status.idle": "2024-09-27T12:54:34.706906Z",
     "shell.execute_reply": "2024-09-27T12:54:34.706076Z",
     "shell.execute_reply.started": "2024-09-27T12:54:34.688853Z"
    },
    "id": "cGEhRWMYDMof",
    "tags": []
   },
   "outputs": [],
   "source": [
    "#!L\n",
    "def compute_loss(predictions, gt, label_smoothing=0.0):\n",
    "    return F.cross_entropy(predictions, gt, label_smoothing=label_smoothing).mean()"
   ]
  },
  {
   "cell_type": "markdown",
   "metadata": {},
   "source": [
    "## 3.2 EMA on network weights"
   ]
  },
  {
   "cell_type": "markdown",
   "metadata": {},
   "source": [
    "TL;DR Just check the documentation from pytorch about what what weight averaging is and how it can helps you: https://pytorch.org/docs/stable/optim.html#weight-averaging-swa-and-ema"
   ]
  },
  {
   "cell_type": "code",
   "execution_count": 26,
   "metadata": {
    "execution": {
     "iopub.execute_input": "2024-09-27T12:54:34.709222Z",
     "iopub.status.busy": "2024-09-27T12:54:34.707813Z",
     "iopub.status.idle": "2024-09-27T12:54:34.719551Z",
     "shell.execute_reply": "2024-09-27T12:54:34.718694Z",
     "shell.execute_reply.started": "2024-09-27T12:54:34.709181Z"
    },
    "tags": []
   },
   "outputs": [],
   "source": [
    "def create_averaged_model(model, decay=0.999):\n",
    "    # YOUR CODE: create AveragedModel instance with ema multi_avg_fn (dont forget to use 'decay' parameter)\n",
    "    ema_avg = lambda averaged_model_parameter, model_parameter, num_averaged:\\\n",
    "        decay * averaged_model_parameter + (1 - decay) * model_parameter\n",
    "    ema_model = torch.optim.swa_utils.AveragedModel(model, avg_fn=ema_avg)\n",
    "    return ema_model"
   ]
  },
  {
   "cell_type": "markdown",
   "metadata": {},
   "source": [
    "For correct processing of averaged model we will need to modify `train_model()` and `train_loop()` from the previous homework."
   ]
  },
  {
   "cell_type": "code",
   "execution_count": 27,
   "metadata": {
    "cellId": "w8rht9ygh7uns89ypozln",
    "execution": {
     "iopub.execute_input": "2024-09-27T12:54:34.722423Z",
     "iopub.status.busy": "2024-09-27T12:54:34.720716Z",
     "iopub.status.idle": "2024-09-27T12:54:34.920661Z",
     "shell.execute_reply": "2024-09-27T12:54:34.919850Z",
     "shell.execute_reply.started": "2024-09-27T12:54:34.722374Z"
    },
    "id": "sEy0LiHxDMol",
    "scrolled": true,
    "tags": []
   },
   "outputs": [],
   "source": [
    "import numpy as np\n",
    "import time\n",
    "from collections import defaultdict\n",
    "import matplotlib.pyplot as plt\n",
    "%matplotlib inline\n",
    "\n",
    "\n",
    "def eval_model(model, data_generator):\n",
    "    accuracy = []\n",
    "    model.train(False) # disable dropout / use averages for batch_norm\n",
    "    with torch.no_grad():\n",
    "        for X_batch, y_batch in data_generator:\n",
    "            X_batch = X_batch.to(device)\n",
    "            logits = model(X_batch)\n",
    "            y_pred = logits.max(1)[1].data\n",
    "            accuracy.append(np.mean((y_batch.cpu() == y_pred.cpu()).numpy()))\n",
    "    return np.mean(accuracy)\n",
    "\n",
    "            \n",
    "def train_model(model, optimizer, train_data_generator, ema_model=None, label_smoothing=0.0):\n",
    "    train_loss = []\n",
    "    model.train(True) # enable dropout / batch_norm training behavior\n",
    "    for (X_batch, y_batch) in tqdm.tqdm(train_data_generator):\n",
    "        opt.zero_grad()\n",
    "\n",
    "        # forward\n",
    "        # YOUR CODE: move X_batch, y_batch to 'device', compute model outputs on X_batch, \n",
    "        X_batch = X_batch.to(device)\n",
    "        y_batch = y_batch.to(device)\n",
    "        predictions = model(X_batch)\n",
    "\n",
    "        loss = compute_loss(predictions, y_batch, label_smoothing)\n",
    "\n",
    "        # backward\n",
    "        loss.backward()\n",
    "        optimizer.step()\n",
    "\n",
    "        if ema_model is not None:\n",
    "            # YOUR CODE: update parameters of ema model here (see pytorch doc on AveragedModel)\n",
    "            ema_model.update_parameters(model)\n",
    "\n",
    "        # metrics\n",
    "        train_loss.append(loss.cpu().data.numpy())\n",
    "    return np.mean(train_loss)\n",
    "\n",
    "\n",
    "def get_input_for_bn_recompute(data_generator):\n",
    "    for i, (x, y) in enumerate(data_generator):\n",
    "        x = x.to(device)\n",
    "        yield x\n",
    "        if i == 100:\n",
    "            break\n",
    "\n",
    "\n",
    "def train_loop(model, optimizer, train_data_generator, val_data_generator, num_epochs, ema_model=None, label_smoothing=0.0):\n",
    "    \"\"\"\n",
    "    num_epochs - total amount of full passes over training data\n",
    "    \"\"\"\n",
    "    train_metrics = defaultdict(list)\n",
    "    val_metrics = defaultdict(list)\n",
    "\n",
    "    for epoch in range(num_epochs):\n",
    "        start_time = time.time()\n",
    "        \n",
    "        train_loss = train_model(model, optimizer, train_data_generator, ema_model, label_smoothing)\n",
    "\n",
    "        if ema_model is not None:\n",
    "            # YOUR CODE: update batchnorm statistics for ema_model (see pytorch doc on AveragedModel)\n",
    "            torch.optim.swa_utils.update_bn(get_input_for_bn_recompute(train_data_generator), ema_model)\n",
    "            # you may need get_input_for_bn_recompute() function here\n",
    "            val_accuracy_ema_model = eval_model(ema_model, val_data_generator)\n",
    "\n",
    "            \n",
    "        val_accuracy = eval_model(model, val_data_generator)\n",
    "\n",
    "        # Then we print the results for this epoch:\n",
    "        print(\"Epoch {} of {} took {:.3f}s\".format(epoch + 1, num_epochs, time.time() - start_time))\n",
    "        print(\"  training loss (in-iteration): \\t{:.6f}\".format(train_loss))\n",
    "        print(\"  validation accuracy: \\t\\t\\t{:.2f} %\".format(val_accuracy * 100))\n",
    "        train_metrics['loss'].append(train_loss)\n",
    "        val_metrics['accuracy'].append(val_accuracy)\n",
    "\n",
    "        if ema_model:\n",
    "            print(\"  validation accuracy(ema): \\t\\t\\t{:.2f} %\".format(val_accuracy_ema_model * 100))\n",
    "            val_metrics['ema_model_accuracy'].append(val_accuracy_ema_model)\n",
    "            \n",
    "    print('Best model accuracy: ', max(val_metrics['accuracy']))\n",
    "    if ema_model:\n",
    "        print('Best ema model accuracy: ', max(val_metrics['ema_model_accuracy']))\n",
    "\n",
    "    plt.plot(val_metrics['accuracy'], label='model')\n",
    "    if ema_model:\n",
    "        plt.plot(val_metrics['ema_model_accuracy'], label='ema_model')\n",
    "    plt.grid()\n",
    "    plt.legend(loc='best')\n",
    "    return train_metrics, val_metrics"
   ]
  },
  {
   "cell_type": "markdown",
   "metadata": {},
   "source": [
    "# 4. Experiments"
   ]
  },
  {
   "cell_type": "markdown",
   "metadata": {},
   "source": [
    "All the preparation is done, time to run the training and check the improvements from all the stuff."
   ]
  },
  {
   "cell_type": "markdown",
   "metadata": {},
   "source": [
    "## По какой-то причине у меня не записалась часть логов обучения (я запустил ячейки и ушел по делам), но результат хороший, поэтому не хочу ставить заново"
   ]
  },
  {
   "cell_type": "markdown",
   "metadata": {},
   "source": [
    "## 4.1 EMA on network weights\n",
    "\n",
    "Our baseline is ConvNeXt architecture without DropPath and LabelSmooting and with BatchNorm instead of LayerNorm.\n",
    "\n",
    "Let's check how much improvement we can get from network weights averaging."
   ]
  },
  {
   "cell_type": "code",
   "execution_count": 28,
   "metadata": {
    "execution": {
     "iopub.execute_input": "2024-09-27T12:54:34.922346Z",
     "iopub.status.busy": "2024-09-27T12:54:34.921772Z",
     "iopub.status.idle": "2024-09-27T12:54:34.958142Z",
     "shell.execute_reply": "2024-09-27T12:54:34.957268Z",
     "shell.execute_reply.started": "2024-09-27T12:54:34.922308Z"
    },
    "tags": []
   },
   "outputs": [
    {
     "data": {
      "text/plain": [
       "'2.0.1+cu118'"
      ]
     },
     "execution_count": 28,
     "metadata": {},
     "output_type": "execute_result"
    }
   ],
   "source": [
    "torch.__version__"
   ]
  },
  {
   "cell_type": "code",
   "execution_count": null,
   "metadata": {
    "execution": {
     "iopub.execute_input": "2024-09-27T12:54:34.959861Z",
     "iopub.status.busy": "2024-09-27T12:54:34.959276Z"
    },
    "scrolled": true,
    "tags": []
   },
   "outputs": [
    {
     "name": "stderr",
     "output_type": "stream",
     "text": [
      "100%|██████████| 1563/1563 [01:44<00:00, 14.90it/s]\n"
     ]
    },
    {
     "name": "stdout",
     "output_type": "stream",
     "text": [
      "Epoch 1 of 30 took 114.857s\n",
      "  training loss (in-iteration): \t4.588724\n",
      "  validation accuracy: \t\t\t14.43 %\n",
      "  validation accuracy(ema): \t\t\t9.28 %\n"
     ]
    },
    {
     "name": "stderr",
     "output_type": "stream",
     "text": [
      "100%|██████████| 1563/1563 [01:38<00:00, 15.93it/s]\n"
     ]
    },
    {
     "name": "stdout",
     "output_type": "stream",
     "text": [
      "Epoch 2 of 30 took 107.738s\n",
      "  training loss (in-iteration): \t3.784902\n",
      "  validation accuracy: \t\t\t21.30 %\n",
      "  validation accuracy(ema): \t\t\t20.86 %\n"
     ]
    },
    {
     "name": "stderr",
     "output_type": "stream",
     "text": [
      "100%|██████████| 1563/1563 [01:38<00:00, 15.85it/s]\n"
     ]
    },
    {
     "name": "stdout",
     "output_type": "stream",
     "text": [
      "Epoch 3 of 30 took 108.572s\n",
      "  training loss (in-iteration): \t3.433327\n",
      "  validation accuracy: \t\t\t26.08 %\n",
      "  validation accuracy(ema): \t\t\t27.27 %\n"
     ]
    },
    {
     "name": "stderr",
     "output_type": "stream",
     "text": [
      "100%|██████████| 1563/1563 [01:37<00:00, 16.03it/s]\n"
     ]
    },
    {
     "name": "stdout",
     "output_type": "stream",
     "text": [
      "Epoch 4 of 30 took 107.272s\n",
      "  training loss (in-iteration): \t3.193068\n",
      "  validation accuracy: \t\t\t29.93 %\n",
      "  validation accuracy(ema): \t\t\t31.21 %\n"
     ]
    },
    {
     "name": "stderr",
     "output_type": "stream",
     "text": [
      "100%|██████████| 1563/1563 [01:37<00:00, 15.97it/s]\n"
     ]
    },
    {
     "name": "stdout",
     "output_type": "stream",
     "text": [
      "Epoch 5 of 30 took 107.878s\n",
      "  training loss (in-iteration): \t3.005229\n",
      "  validation accuracy: \t\t\t32.04 %\n",
      "  validation accuracy(ema): \t\t\t34.02 %\n"
     ]
    },
    {
     "name": "stderr",
     "output_type": "stream",
     "text": [
      "100%|██████████| 1563/1563 [01:38<00:00, 15.84it/s]\n"
     ]
    },
    {
     "name": "stdout",
     "output_type": "stream",
     "text": [
      "Epoch 6 of 30 took 108.560s\n",
      "  training loss (in-iteration): \t2.862890\n",
      "  validation accuracy: \t\t\t34.37 %\n",
      "  validation accuracy(ema): \t\t\t36.35 %\n"
     ]
    },
    {
     "name": "stderr",
     "output_type": "stream",
     "text": [
      "100%|██████████| 1563/1563 [01:37<00:00, 16.01it/s]\n"
     ]
    },
    {
     "name": "stdout",
     "output_type": "stream",
     "text": [
      "Epoch 7 of 30 took 107.520s\n",
      "  training loss (in-iteration): \t2.736039\n",
      "  validation accuracy: \t\t\t35.42 %\n",
      "  validation accuracy(ema): \t\t\t38.27 %\n"
     ]
    },
    {
     "name": "stderr",
     "output_type": "stream",
     "text": [
      "100%|██████████| 1563/1563 [01:37<00:00, 16.00it/s]\n"
     ]
    },
    {
     "name": "stdout",
     "output_type": "stream",
     "text": [
      "Epoch 8 of 30 took 107.596s\n",
      "  training loss (in-iteration): \t2.625520\n",
      "  validation accuracy: \t\t\t37.06 %\n",
      "  validation accuracy(ema): \t\t\t40.01 %\n"
     ]
    },
    {
     "name": "stderr",
     "output_type": "stream",
     "text": [
      "100%|██████████| 1563/1563 [01:37<00:00, 16.00it/s]\n"
     ]
    },
    {
     "name": "stdout",
     "output_type": "stream",
     "text": [
      "Epoch 9 of 30 took 107.670s\n",
      "  training loss (in-iteration): \t2.529650\n",
      "  validation accuracy: \t\t\t38.68 %\n",
      "  validation accuracy(ema): \t\t\t41.26 %\n"
     ]
    },
    {
     "name": "stderr",
     "output_type": "stream",
     "text": [
      "100%|██████████| 1563/1563 [01:37<00:00, 16.08it/s]\n"
     ]
    },
    {
     "name": "stdout",
     "output_type": "stream",
     "text": [
      "Epoch 10 of 30 took 106.934s\n",
      "  training loss (in-iteration): \t2.445014\n",
      "  validation accuracy: \t\t\t39.53 %\n",
      "  validation accuracy(ema): \t\t\t42.39 %\n"
     ]
    },
    {
     "name": "stderr",
     "output_type": "stream",
     "text": [
      "100%|██████████| 1563/1563 [01:38<00:00, 15.90it/s]\n"
     ]
    },
    {
     "name": "stdout",
     "output_type": "stream",
     "text": [
      "Epoch 11 of 30 took 108.278s\n",
      "  training loss (in-iteration): \t2.364619\n",
      "  validation accuracy: \t\t\t40.37 %\n",
      "  validation accuracy(ema): \t\t\t43.53 %\n"
     ]
    },
    {
     "name": "stderr",
     "output_type": "stream",
     "text": [
      "100%|██████████| 1563/1563 [01:40<00:00, 15.51it/s]\n"
     ]
    },
    {
     "name": "stdout",
     "output_type": "stream",
     "text": [
      "Epoch 12 of 30 took 110.793s\n",
      "  training loss (in-iteration): \t2.290039\n",
      "  validation accuracy: \t\t\t41.49 %\n",
      "  validation accuracy(ema): \t\t\t44.34 %\n"
     ]
    },
    {
     "name": "stderr",
     "output_type": "stream",
     "text": [
      "100%|██████████| 1563/1563 [01:40<00:00, 15.55it/s]\n"
     ]
    },
    {
     "name": "stdout",
     "output_type": "stream",
     "text": [
      "Epoch 13 of 30 took 110.515s\n",
      "  training loss (in-iteration): \t2.223906\n",
      "  validation accuracy: \t\t\t41.71 %\n",
      "  validation accuracy(ema): \t\t\t44.90 %\n"
     ]
    },
    {
     "name": "stderr",
     "output_type": "stream",
     "text": [
      "100%|██████████| 1563/1563 [01:41<00:00, 15.41it/s]\n"
     ]
    },
    {
     "name": "stdout",
     "output_type": "stream",
     "text": [
      "Epoch 14 of 30 took 111.674s\n",
      "  training loss (in-iteration): \t2.160924\n",
      "  validation accuracy: \t\t\t42.31 %\n",
      "  validation accuracy(ema): \t\t\t45.58 %\n"
     ]
    },
    {
     "name": "stderr",
     "output_type": "stream",
     "text": [
      "100%|██████████| 1563/1563 [01:38<00:00, 15.93it/s]\n"
     ]
    },
    {
     "name": "stdout",
     "output_type": "stream",
     "text": [
      "Epoch 15 of 30 took 107.927s\n",
      "  training loss (in-iteration): \t2.100475\n",
      "  validation accuracy: \t\t\t42.70 %\n",
      "  validation accuracy(ema): \t\t\t45.88 %\n"
     ]
    },
    {
     "name": "stderr",
     "output_type": "stream",
     "text": [
      "100%|██████████| 1563/1563 [01:36<00:00, 16.16it/s]\n"
     ]
    },
    {
     "name": "stdout",
     "output_type": "stream",
     "text": [
      "Epoch 16 of 30 took 106.661s\n",
      "  training loss (in-iteration): \t2.038853\n",
      "  validation accuracy: \t\t\t43.00 %\n",
      "  validation accuracy(ema): \t\t\t46.12 %\n"
     ]
    },
    {
     "name": "stderr",
     "output_type": "stream",
     "text": [
      "100%|██████████| 1563/1563 [01:39<00:00, 15.73it/s]\n"
     ]
    },
    {
     "name": "stdout",
     "output_type": "stream",
     "text": [
      "Epoch 17 of 30 took 109.493s\n",
      "  training loss (in-iteration): \t1.985951\n",
      "  validation accuracy: \t\t\t43.10 %\n",
      "  validation accuracy(ema): \t\t\t46.50 %\n"
     ]
    },
    {
     "name": "stderr",
     "output_type": "stream",
     "text": [
      "100%|██████████| 1563/1563 [01:41<00:00, 15.41it/s]\n"
     ]
    },
    {
     "name": "stdout",
     "output_type": "stream",
     "text": [
      "Epoch 18 of 30 took 111.455s\n",
      "  training loss (in-iteration): \t1.933590\n",
      "  validation accuracy: \t\t\t43.45 %\n",
      "  validation accuracy(ema): \t\t\t46.56 %\n"
     ]
    },
    {
     "name": "stderr",
     "output_type": "stream",
     "text": [
      "100%|██████████| 1563/1563 [01:40<00:00, 15.62it/s]\n"
     ]
    },
    {
     "name": "stdout",
     "output_type": "stream",
     "text": [
      "Epoch 19 of 30 took 110.297s\n",
      "  training loss (in-iteration): \t1.884652\n",
      "  validation accuracy: \t\t\t43.07 %\n",
      "  validation accuracy(ema): \t\t\t46.34 %\n"
     ]
    },
    {
     "name": "stderr",
     "output_type": "stream",
     "text": [
      "100%|██████████| 1563/1563 [01:42<00:00, 15.29it/s]\n"
     ]
    },
    {
     "name": "stdout",
     "output_type": "stream",
     "text": [
      "Epoch 20 of 30 took 112.513s\n",
      "  training loss (in-iteration): \t1.842884\n",
      "  validation accuracy: \t\t\t43.24 %\n",
      "  validation accuracy(ema): \t\t\t45.89 %\n"
     ]
    },
    {
     "name": "stderr",
     "output_type": "stream",
     "text": [
      "100%|██████████| 1563/1563 [01:39<00:00, 15.63it/s]\n"
     ]
    },
    {
     "name": "stdout",
     "output_type": "stream",
     "text": [
      "Epoch 21 of 30 took 109.971s\n",
      "  training loss (in-iteration): \t1.800392\n",
      "  validation accuracy: \t\t\t43.39 %\n",
      "  validation accuracy(ema): \t\t\t46.35 %\n"
     ]
    },
    {
     "name": "stderr",
     "output_type": "stream",
     "text": [
      "100%|██████████| 1563/1563 [01:39<00:00, 15.67it/s]\n"
     ]
    },
    {
     "name": "stdout",
     "output_type": "stream",
     "text": [
      "Epoch 22 of 30 took 109.529s\n",
      "  training loss (in-iteration): \t1.756776\n",
      "  validation accuracy: \t\t\t43.78 %\n",
      "  validation accuracy(ema): \t\t\t46.59 %\n"
     ]
    },
    {
     "name": "stderr",
     "output_type": "stream",
     "text": [
      "100%|██████████| 1563/1563 [01:36<00:00, 16.12it/s]\n"
     ]
    },
    {
     "name": "stdout",
     "output_type": "stream",
     "text": [
      "Epoch 23 of 30 took 106.581s\n",
      "  training loss (in-iteration): \t1.719843\n",
      "  validation accuracy: \t\t\t44.19 %\n",
      "  validation accuracy(ema): \t\t\t46.75 %\n"
     ]
    },
    {
     "name": "stderr",
     "output_type": "stream",
     "text": [
      "100%|██████████| 1563/1563 [01:39<00:00, 15.65it/s]\n"
     ]
    },
    {
     "name": "stdout",
     "output_type": "stream",
     "text": [
      "Epoch 24 of 30 took 109.988s\n",
      "  training loss (in-iteration): \t1.679217\n",
      "  validation accuracy: \t\t\t43.51 %\n",
      "  validation accuracy(ema): \t\t\t46.79 %\n"
     ]
    },
    {
     "name": "stderr",
     "output_type": "stream",
     "text": [
      "  0%|          | 0/1563 [00:00<?, ?it/s]"
     ]
    }
   ],
   "source": [
    "model = create_convnext_like_network(use_bn=True)\n",
    "model = model.to(device)\n",
    "ema_model = create_averaged_model(model)\n",
    "opt = torch.optim.Adam(model.parameters(), lr=0.001)\n",
    "\n",
    "train_metrics_ema_bn, val_metrics_ema_bn = train_loop(model, opt, train_batch_gen, val_batch_gen, num_epochs=30, ema_model=ema_model)"
   ]
  },
  {
   "cell_type": "markdown",
   "metadata": {},
   "source": [
    "Normally baseline should give you >42% accuracy here and ema model should give you extra >2%. If it does not, check data augmentation and all the code."
   ]
  },
  {
   "cell_type": "markdown",
   "metadata": {},
   "source": [
    "## 4.2 Stochastic depth"
   ]
  },
  {
   "cell_type": "code",
   "execution_count": 35,
   "metadata": {
    "execution": {
     "iopub.execute_input": "2024-09-27T16:39:32.830270Z",
     "iopub.status.busy": "2024-09-27T16:39:32.829286Z",
     "iopub.status.idle": "2024-09-27T17:34:26.644581Z",
     "shell.execute_reply": "2024-09-27T17:34:26.643599Z",
     "shell.execute_reply.started": "2024-09-27T16:39:32.830229Z"
    },
    "tags": []
   },
   "outputs": [
    {
     "name": "stderr",
     "output_type": "stream",
     "text": [
      "100%|██████████| 1563/1563 [01:39<00:00, 15.74it/s]\n"
     ]
    },
    {
     "name": "stdout",
     "output_type": "stream",
     "text": [
      "Epoch 1 of 30 took 109.332s\n",
      "  training loss (in-iteration): \t4.687984\n",
      "  validation accuracy: \t\t\t13.52 %\n",
      "  validation accuracy(ema): \t\t\t7.16 %\n"
     ]
    },
    {
     "name": "stderr",
     "output_type": "stream",
     "text": [
      "100%|██████████| 1563/1563 [01:40<00:00, 15.58it/s]\n"
     ]
    },
    {
     "name": "stdout",
     "output_type": "stream",
     "text": [
      "Epoch 2 of 30 took 110.393s\n",
      "  training loss (in-iteration): \t3.913041\n",
      "  validation accuracy: \t\t\t20.46 %\n",
      "  validation accuracy(ema): \t\t\t19.44 %\n"
     ]
    },
    {
     "name": "stderr",
     "output_type": "stream",
     "text": [
      "100%|██████████| 1563/1563 [01:39<00:00, 15.66it/s]\n"
     ]
    },
    {
     "name": "stdout",
     "output_type": "stream",
     "text": [
      "Epoch 3 of 30 took 109.900s\n",
      "  training loss (in-iteration): \t3.533432\n",
      "  validation accuracy: \t\t\t26.07 %\n",
      "  validation accuracy(ema): \t\t\t26.30 %\n"
     ]
    },
    {
     "name": "stderr",
     "output_type": "stream",
     "text": [
      "100%|██████████| 1563/1563 [01:39<00:00, 15.63it/s]\n"
     ]
    },
    {
     "name": "stdout",
     "output_type": "stream",
     "text": [
      "Epoch 4 of 30 took 109.956s\n",
      "  training loss (in-iteration): \t3.295989\n",
      "  validation accuracy: \t\t\t29.40 %\n",
      "  validation accuracy(ema): \t\t\t30.80 %\n"
     ]
    },
    {
     "name": "stderr",
     "output_type": "stream",
     "text": [
      "100%|██████████| 1563/1563 [01:39<00:00, 15.73it/s]\n"
     ]
    },
    {
     "name": "stdout",
     "output_type": "stream",
     "text": [
      "Epoch 5 of 30 took 109.396s\n",
      "  training loss (in-iteration): \t3.122239\n",
      "  validation accuracy: \t\t\t31.78 %\n",
      "  validation accuracy(ema): \t\t\t34.03 %\n"
     ]
    },
    {
     "name": "stderr",
     "output_type": "stream",
     "text": [
      "100%|██████████| 1563/1563 [01:39<00:00, 15.71it/s]\n"
     ]
    },
    {
     "name": "stdout",
     "output_type": "stream",
     "text": [
      "Epoch 6 of 30 took 109.365s\n",
      "  training loss (in-iteration): \t2.976291\n",
      "  validation accuracy: \t\t\t34.28 %\n",
      "  validation accuracy(ema): \t\t\t36.16 %\n"
     ]
    },
    {
     "name": "stderr",
     "output_type": "stream",
     "text": [
      "100%|██████████| 1563/1563 [01:39<00:00, 15.66it/s]\n"
     ]
    },
    {
     "name": "stdout",
     "output_type": "stream",
     "text": [
      "Epoch 7 of 30 took 109.724s\n",
      "  training loss (in-iteration): \t2.859030\n",
      "  validation accuracy: \t\t\t35.75 %\n",
      "  validation accuracy(ema): \t\t\t38.10 %\n"
     ]
    },
    {
     "name": "stderr",
     "output_type": "stream",
     "text": [
      "100%|██████████| 1563/1563 [01:39<00:00, 15.65it/s]\n"
     ]
    },
    {
     "name": "stdout",
     "output_type": "stream",
     "text": [
      "Epoch 8 of 30 took 110.049s\n",
      "  training loss (in-iteration): \t2.750199\n",
      "  validation accuracy: \t\t\t36.68 %\n",
      "  validation accuracy(ema): \t\t\t39.52 %\n"
     ]
    },
    {
     "name": "stderr",
     "output_type": "stream",
     "text": [
      "100%|██████████| 1563/1563 [01:42<00:00, 15.27it/s]\n"
     ]
    },
    {
     "name": "stdout",
     "output_type": "stream",
     "text": [
      "Epoch 9 of 30 took 112.792s\n",
      "  training loss (in-iteration): \t2.656337\n",
      "  validation accuracy: \t\t\t38.33 %\n",
      "  validation accuracy(ema): \t\t\t40.55 %\n"
     ]
    },
    {
     "name": "stderr",
     "output_type": "stream",
     "text": [
      "100%|██████████| 1563/1563 [01:42<00:00, 15.20it/s]\n"
     ]
    },
    {
     "name": "stdout",
     "output_type": "stream",
     "text": [
      "Epoch 10 of 30 took 112.923s\n",
      "  training loss (in-iteration): \t2.571518\n",
      "  validation accuracy: \t\t\t39.37 %\n",
      "  validation accuracy(ema): \t\t\t41.83 %\n"
     ]
    },
    {
     "name": "stderr",
     "output_type": "stream",
     "text": [
      "100%|██████████| 1563/1563 [01:43<00:00, 15.12it/s]\n"
     ]
    },
    {
     "name": "stdout",
     "output_type": "stream",
     "text": [
      "Epoch 11 of 30 took 113.577s\n",
      "  training loss (in-iteration): \t2.491985\n",
      "  validation accuracy: \t\t\t39.82 %\n",
      "  validation accuracy(ema): \t\t\t43.00 %\n"
     ]
    },
    {
     "name": "stderr",
     "output_type": "stream",
     "text": [
      "100%|██████████| 1563/1563 [01:40<00:00, 15.48it/s]\n"
     ]
    },
    {
     "name": "stdout",
     "output_type": "stream",
     "text": [
      "Epoch 12 of 30 took 110.854s\n",
      "  training loss (in-iteration): \t2.426699\n",
      "  validation accuracy: \t\t\t40.77 %\n",
      "  validation accuracy(ema): \t\t\t43.35 %\n"
     ]
    },
    {
     "name": "stderr",
     "output_type": "stream",
     "text": [
      "100%|██████████| 1563/1563 [01:38<00:00, 15.89it/s]\n"
     ]
    },
    {
     "name": "stdout",
     "output_type": "stream",
     "text": [
      "Epoch 13 of 30 took 108.213s\n",
      "  training loss (in-iteration): \t2.354751\n",
      "  validation accuracy: \t\t\t40.84 %\n",
      "  validation accuracy(ema): \t\t\t44.09 %\n"
     ]
    },
    {
     "name": "stderr",
     "output_type": "stream",
     "text": [
      "100%|██████████| 1563/1563 [01:39<00:00, 15.78it/s]\n"
     ]
    },
    {
     "name": "stdout",
     "output_type": "stream",
     "text": [
      "Epoch 14 of 30 took 109.017s\n",
      "  training loss (in-iteration): \t2.296167\n",
      "  validation accuracy: \t\t\t41.25 %\n",
      "  validation accuracy(ema): \t\t\t44.91 %\n"
     ]
    },
    {
     "name": "stderr",
     "output_type": "stream",
     "text": [
      "100%|██████████| 1563/1563 [01:39<00:00, 15.78it/s]\n"
     ]
    },
    {
     "name": "stdout",
     "output_type": "stream",
     "text": [
      "Epoch 15 of 30 took 109.085s\n",
      "  training loss (in-iteration): \t2.239794\n",
      "  validation accuracy: \t\t\t42.26 %\n",
      "  validation accuracy(ema): \t\t\t45.04 %\n"
     ]
    },
    {
     "name": "stderr",
     "output_type": "stream",
     "text": [
      "100%|██████████| 1563/1563 [01:39<00:00, 15.65it/s]\n"
     ]
    },
    {
     "name": "stdout",
     "output_type": "stream",
     "text": [
      "Epoch 16 of 30 took 109.923s\n",
      "  training loss (in-iteration): \t2.188864\n",
      "  validation accuracy: \t\t\t42.77 %\n",
      "  validation accuracy(ema): \t\t\t45.36 %\n"
     ]
    },
    {
     "name": "stderr",
     "output_type": "stream",
     "text": [
      "100%|██████████| 1563/1563 [01:40<00:00, 15.63it/s]\n"
     ]
    },
    {
     "name": "stdout",
     "output_type": "stream",
     "text": [
      "Epoch 17 of 30 took 109.886s\n",
      "  training loss (in-iteration): \t2.138658\n",
      "  validation accuracy: \t\t\t43.02 %\n",
      "  validation accuracy(ema): \t\t\t45.67 %\n"
     ]
    },
    {
     "name": "stderr",
     "output_type": "stream",
     "text": [
      "100%|██████████| 1563/1563 [01:39<00:00, 15.65it/s]\n"
     ]
    },
    {
     "name": "stdout",
     "output_type": "stream",
     "text": [
      "Epoch 18 of 30 took 109.781s\n",
      "  training loss (in-iteration): \t2.087610\n",
      "  validation accuracy: \t\t\t43.08 %\n",
      "  validation accuracy(ema): \t\t\t46.03 %\n"
     ]
    },
    {
     "name": "stderr",
     "output_type": "stream",
     "text": [
      "100%|██████████| 1563/1563 [01:40<00:00, 15.62it/s]\n"
     ]
    },
    {
     "name": "stdout",
     "output_type": "stream",
     "text": [
      "Epoch 19 of 30 took 109.971s\n",
      "  training loss (in-iteration): \t2.045000\n",
      "  validation accuracy: \t\t\t43.62 %\n",
      "  validation accuracy(ema): \t\t\t46.08 %\n"
     ]
    },
    {
     "name": "stderr",
     "output_type": "stream",
     "text": [
      "100%|██████████| 1563/1563 [01:38<00:00, 15.79it/s]\n"
     ]
    },
    {
     "name": "stdout",
     "output_type": "stream",
     "text": [
      "Epoch 20 of 30 took 108.960s\n",
      "  training loss (in-iteration): \t2.000159\n",
      "  validation accuracy: \t\t\t43.68 %\n",
      "  validation accuracy(ema): \t\t\t46.55 %\n"
     ]
    },
    {
     "name": "stderr",
     "output_type": "stream",
     "text": [
      "100%|██████████| 1563/1563 [01:38<00:00, 15.86it/s]\n"
     ]
    },
    {
     "name": "stdout",
     "output_type": "stream",
     "text": [
      "Epoch 21 of 30 took 108.580s\n",
      "  training loss (in-iteration): \t1.959199\n",
      "  validation accuracy: \t\t\t43.97 %\n",
      "  validation accuracy(ema): \t\t\t46.33 %\n"
     ]
    },
    {
     "name": "stderr",
     "output_type": "stream",
     "text": [
      "100%|██████████| 1563/1563 [01:38<00:00, 15.83it/s]\n"
     ]
    },
    {
     "name": "stdout",
     "output_type": "stream",
     "text": [
      "Epoch 22 of 30 took 108.661s\n",
      "  training loss (in-iteration): \t1.922757\n",
      "  validation accuracy: \t\t\t43.79 %\n",
      "  validation accuracy(ema): \t\t\t46.94 %\n"
     ]
    },
    {
     "name": "stderr",
     "output_type": "stream",
     "text": [
      "100%|██████████| 1563/1563 [01:38<00:00, 15.80it/s]\n"
     ]
    },
    {
     "name": "stdout",
     "output_type": "stream",
     "text": [
      "Epoch 23 of 30 took 108.911s\n",
      "  training loss (in-iteration): \t1.894587\n",
      "  validation accuracy: \t\t\t44.44 %\n",
      "  validation accuracy(ema): \t\t\t46.88 %\n"
     ]
    },
    {
     "name": "stderr",
     "output_type": "stream",
     "text": [
      "100%|██████████| 1563/1563 [01:39<00:00, 15.71it/s]\n"
     ]
    },
    {
     "name": "stdout",
     "output_type": "stream",
     "text": [
      "Epoch 24 of 30 took 109.581s\n",
      "  training loss (in-iteration): \t1.850891\n",
      "  validation accuracy: \t\t\t43.31 %\n",
      "  validation accuracy(ema): \t\t\t47.12 %\n"
     ]
    },
    {
     "name": "stderr",
     "output_type": "stream",
     "text": [
      "100%|██████████| 1563/1563 [01:39<00:00, 15.66it/s]\n"
     ]
    },
    {
     "name": "stdout",
     "output_type": "stream",
     "text": [
      "Epoch 25 of 30 took 109.842s\n",
      "  training loss (in-iteration): \t1.817589\n",
      "  validation accuracy: \t\t\t44.54 %\n",
      "  validation accuracy(ema): \t\t\t47.09 %\n"
     ]
    },
    {
     "name": "stderr",
     "output_type": "stream",
     "text": [
      "100%|██████████| 1563/1563 [01:38<00:00, 15.84it/s]\n"
     ]
    },
    {
     "name": "stdout",
     "output_type": "stream",
     "text": [
      "Epoch 26 of 30 took 108.758s\n",
      "  training loss (in-iteration): \t1.783624\n",
      "  validation accuracy: \t\t\t44.85 %\n",
      "  validation accuracy(ema): \t\t\t47.19 %\n"
     ]
    },
    {
     "name": "stderr",
     "output_type": "stream",
     "text": [
      "100%|██████████| 1563/1563 [01:38<00:00, 15.83it/s]\n"
     ]
    },
    {
     "name": "stdout",
     "output_type": "stream",
     "text": [
      "Epoch 27 of 30 took 108.677s\n",
      "  training loss (in-iteration): \t1.753438\n",
      "  validation accuracy: \t\t\t44.68 %\n",
      "  validation accuracy(ema): \t\t\t46.92 %\n"
     ]
    },
    {
     "name": "stderr",
     "output_type": "stream",
     "text": [
      "100%|██████████| 1563/1563 [01:38<00:00, 15.79it/s]\n"
     ]
    },
    {
     "name": "stdout",
     "output_type": "stream",
     "text": [
      "Epoch 28 of 30 took 108.767s\n",
      "  training loss (in-iteration): \t1.726287\n",
      "  validation accuracy: \t\t\t44.61 %\n",
      "  validation accuracy(ema): \t\t\t46.70 %\n"
     ]
    },
    {
     "name": "stderr",
     "output_type": "stream",
     "text": [
      "100%|██████████| 1563/1563 [01:38<00:00, 15.83it/s]\n"
     ]
    },
    {
     "name": "stdout",
     "output_type": "stream",
     "text": [
      "Epoch 29 of 30 took 108.660s\n",
      "  training loss (in-iteration): \t1.703025\n",
      "  validation accuracy: \t\t\t43.75 %\n",
      "  validation accuracy(ema): \t\t\t46.95 %\n"
     ]
    },
    {
     "name": "stderr",
     "output_type": "stream",
     "text": [
      "100%|██████████| 1563/1563 [01:40<00:00, 15.62it/s]\n"
     ]
    },
    {
     "name": "stdout",
     "output_type": "stream",
     "text": [
      "Epoch 30 of 30 took 110.030s\n",
      "  training loss (in-iteration): \t1.668143\n",
      "  validation accuracy: \t\t\t44.23 %\n",
      "  validation accuracy(ema): \t\t\t47.27 %\n",
      "Best model accuracy:  0.448546974522293\n",
      "Best ema model accuracy:  0.47273089171974525\n"
     ]
    },
    {
     "data": {
      "image/png": "[encoded data removed]",
      "text/plain": [
       "<Figure size 640x480 with 1 Axes>"
      ]
     },
     "metadata": {},
     "output_type": "display_data"
    }
   ],
   "source": [
    "model = create_convnext_like_network(use_bn=True, drop_rate=0.1)\n",
    "model = model.to(device)\n",
    "ema_model = create_averaged_model(model)\n",
    "opt = torch.optim.Adam(model.parameters(), lr=0.001)\n",
    "train_metrics_droppath, val_metrics_droppath = train_loop(model, opt, train_batch_gen, val_batch_gen, num_epochs=30, ema_model=ema_model)"
   ]
  },
  {
   "cell_type": "markdown",
   "metadata": {},
   "source": [
    "If everything was implemented correctly, stochastic depth should give you +1-2% accuracy here comparing to the previous experiment (for single model and for averaged version of this model)"
   ]
  },
  {
   "cell_type": "markdown",
   "metadata": {},
   "source": [
    "## 4.3 LabelSmooting"
   ]
  },
  {
   "cell_type": "code",
   "execution_count": 36,
   "metadata": {
    "execution": {
     "iopub.execute_input": "2024-09-27T17:34:26.647417Z",
     "iopub.status.busy": "2024-09-27T17:34:26.646353Z",
     "iopub.status.idle": "2024-09-27T18:29:22.705582Z",
     "shell.execute_reply": "2024-09-27T18:29:22.704639Z",
     "shell.execute_reply.started": "2024-09-27T17:34:26.647375Z"
    },
    "scrolled": true,
    "tags": []
   },
   "outputs": [
    {
     "name": "stderr",
     "output_type": "stream",
     "text": [
      "100%|██████████| 1563/1563 [01:39<00:00, 15.67it/s]\n"
     ]
    },
    {
     "name": "stdout",
     "output_type": "stream",
     "text": [
      "Epoch 1 of 30 took 109.691s\n",
      "  training loss (in-iteration): \t4.804304\n",
      "  validation accuracy: \t\t\t14.10 %\n",
      "  validation accuracy(ema): \t\t\t8.11 %\n"
     ]
    },
    {
     "name": "stderr",
     "output_type": "stream",
     "text": [
      "100%|██████████| 1563/1563 [01:40<00:00, 15.60it/s]\n"
     ]
    },
    {
     "name": "stdout",
     "output_type": "stream",
     "text": [
      "Epoch 2 of 30 took 110.267s\n",
      "  training loss (in-iteration): \t4.192836\n",
      "  validation accuracy: \t\t\t21.55 %\n",
      "  validation accuracy(ema): \t\t\t20.46 %\n"
     ]
    },
    {
     "name": "stderr",
     "output_type": "stream",
     "text": [
      "100%|██████████| 1563/1563 [01:39<00:00, 15.67it/s]\n"
     ]
    },
    {
     "name": "stdout",
     "output_type": "stream",
     "text": [
      "Epoch 3 of 30 took 109.828s\n",
      "  training loss (in-iteration): \t3.907153\n",
      "  validation accuracy: \t\t\t25.31 %\n",
      "  validation accuracy(ema): \t\t\t26.49 %\n"
     ]
    },
    {
     "name": "stderr",
     "output_type": "stream",
     "text": [
      "100%|██████████| 1563/1563 [01:40<00:00, 15.60it/s]\n"
     ]
    },
    {
     "name": "stdout",
     "output_type": "stream",
     "text": [
      "Epoch 4 of 30 took 110.168s\n",
      "  training loss (in-iteration): \t3.718443\n",
      "  validation accuracy: \t\t\t28.90 %\n",
      "  validation accuracy(ema): \t\t\t30.12 %\n"
     ]
    },
    {
     "name": "stderr",
     "output_type": "stream",
     "text": [
      "100%|██████████| 1563/1563 [01:39<00:00, 15.66it/s]\n"
     ]
    },
    {
     "name": "stdout",
     "output_type": "stream",
     "text": [
      "Epoch 5 of 30 took 109.970s\n",
      "  training loss (in-iteration): \t3.581971\n",
      "  validation accuracy: \t\t\t31.87 %\n",
      "  validation accuracy(ema): \t\t\t33.52 %\n"
     ]
    },
    {
     "name": "stderr",
     "output_type": "stream",
     "text": [
      "100%|██████████| 1563/1563 [01:40<00:00, 15.63it/s]\n"
     ]
    },
    {
     "name": "stdout",
     "output_type": "stream",
     "text": [
      "Epoch 6 of 30 took 110.072s\n",
      "  training loss (in-iteration): \t3.469814\n",
      "  validation accuracy: \t\t\t33.38 %\n",
      "  validation accuracy(ema): \t\t\t35.80 %\n"
     ]
    },
    {
     "name": "stderr",
     "output_type": "stream",
     "text": [
      "100%|██████████| 1563/1563 [01:40<00:00, 15.61it/s]\n"
     ]
    },
    {
     "name": "stdout",
     "output_type": "stream",
     "text": [
      "Epoch 7 of 30 took 110.108s\n",
      "  training loss (in-iteration): \t3.377029\n",
      "  validation accuracy: \t\t\t34.71 %\n",
      "  validation accuracy(ema): \t\t\t37.38 %\n"
     ]
    },
    {
     "name": "stderr",
     "output_type": "stream",
     "text": [
      "100%|██████████| 1563/1563 [01:38<00:00, 15.85it/s]\n"
     ]
    },
    {
     "name": "stdout",
     "output_type": "stream",
     "text": [
      "Epoch 8 of 30 took 108.645s\n",
      "  training loss (in-iteration): \t3.296263\n",
      "  validation accuracy: \t\t\t36.42 %\n",
      "  validation accuracy(ema): \t\t\t38.88 %\n"
     ]
    },
    {
     "name": "stderr",
     "output_type": "stream",
     "text": [
      "100%|██████████| 1563/1563 [01:38<00:00, 15.86it/s]\n"
     ]
    },
    {
     "name": "stdout",
     "output_type": "stream",
     "text": [
      "Epoch 9 of 30 took 108.576s\n",
      "  training loss (in-iteration): \t3.222922\n",
      "  validation accuracy: \t\t\t37.43 %\n",
      "  validation accuracy(ema): \t\t\t39.78 %\n"
     ]
    },
    {
     "name": "stderr",
     "output_type": "stream",
     "text": [
      "100%|██████████| 1563/1563 [01:39<00:00, 15.68it/s]\n"
     ]
    },
    {
     "name": "stdout",
     "output_type": "stream",
     "text": [
      "Epoch 10 of 30 took 109.638s\n",
      "  training loss (in-iteration): \t3.159456\n",
      "  validation accuracy: \t\t\t38.39 %\n",
      "  validation accuracy(ema): \t\t\t40.81 %\n"
     ]
    },
    {
     "name": "stderr",
     "output_type": "stream",
     "text": [
      "100%|██████████| 1563/1563 [01:40<00:00, 15.53it/s]\n"
     ]
    },
    {
     "name": "stdout",
     "output_type": "stream",
     "text": [
      "Epoch 11 of 30 took 110.515s\n",
      "  training loss (in-iteration): \t3.102274\n",
      "  validation accuracy: \t\t\t40.01 %\n",
      "  validation accuracy(ema): \t\t\t41.95 %\n"
     ]
    },
    {
     "name": "stderr",
     "output_type": "stream",
     "text": [
      "100%|██████████| 1563/1563 [01:39<00:00, 15.75it/s]\n"
     ]
    },
    {
     "name": "stdout",
     "output_type": "stream",
     "text": [
      "Epoch 12 of 30 took 109.055s\n",
      "  training loss (in-iteration): \t3.050494\n",
      "  validation accuracy: \t\t\t40.17 %\n",
      "  validation accuracy(ema): \t\t\t43.16 %\n"
     ]
    },
    {
     "name": "stderr",
     "output_type": "stream",
     "text": [
      "100%|██████████| 1563/1563 [01:40<00:00, 15.57it/s]\n"
     ]
    },
    {
     "name": "stdout",
     "output_type": "stream",
     "text": [
      "Epoch 13 of 30 took 110.547s\n",
      "  training loss (in-iteration): \t2.996629\n",
      "  validation accuracy: \t\t\t40.63 %\n",
      "  validation accuracy(ema): \t\t\t43.70 %\n"
     ]
    },
    {
     "name": "stderr",
     "output_type": "stream",
     "text": [
      "100%|██████████| 1563/1563 [01:40<00:00, 15.57it/s]\n"
     ]
    },
    {
     "name": "stdout",
     "output_type": "stream",
     "text": [
      "Epoch 14 of 30 took 110.357s\n",
      "  training loss (in-iteration): \t2.955964\n",
      "  validation accuracy: \t\t\t41.68 %\n",
      "  validation accuracy(ema): \t\t\t44.40 %\n"
     ]
    },
    {
     "name": "stderr",
     "output_type": "stream",
     "text": [
      "100%|██████████| 1563/1563 [01:39<00:00, 15.67it/s]\n"
     ]
    },
    {
     "name": "stdout",
     "output_type": "stream",
     "text": [
      "Epoch 15 of 30 took 109.779s\n",
      "  training loss (in-iteration): \t2.914091\n",
      "  validation accuracy: \t\t\t42.30 %\n",
      "  validation accuracy(ema): \t\t\t44.65 %\n"
     ]
    },
    {
     "name": "stderr",
     "output_type": "stream",
     "text": [
      "100%|██████████| 1563/1563 [01:39<00:00, 15.64it/s]\n"
     ]
    },
    {
     "name": "stdout",
     "output_type": "stream",
     "text": [
      "Epoch 16 of 30 took 109.947s\n",
      "  training loss (in-iteration): \t2.875790\n",
      "  validation accuracy: \t\t\t41.99 %\n",
      "  validation accuracy(ema): \t\t\t44.93 %\n"
     ]
    },
    {
     "name": "stderr",
     "output_type": "stream",
     "text": [
      "100%|██████████| 1563/1563 [01:40<00:00, 15.53it/s]\n"
     ]
    },
    {
     "name": "stdout",
     "output_type": "stream",
     "text": [
      "Epoch 17 of 30 took 110.602s\n",
      "  training loss (in-iteration): \t2.833688\n",
      "  validation accuracy: \t\t\t42.89 %\n",
      "  validation accuracy(ema): \t\t\t45.44 %\n"
     ]
    },
    {
     "name": "stderr",
     "output_type": "stream",
     "text": [
      "100%|██████████| 1563/1563 [01:40<00:00, 15.57it/s]\n"
     ]
    },
    {
     "name": "stdout",
     "output_type": "stream",
     "text": [
      "Epoch 18 of 30 took 110.406s\n",
      "  training loss (in-iteration): \t2.798415\n",
      "  validation accuracy: \t\t\t42.09 %\n",
      "  validation accuracy(ema): \t\t\t45.64 %\n"
     ]
    },
    {
     "name": "stderr",
     "output_type": "stream",
     "text": [
      "100%|██████████| 1563/1563 [01:40<00:00, 15.62it/s]\n"
     ]
    },
    {
     "name": "stdout",
     "output_type": "stream",
     "text": [
      "Epoch 19 of 30 took 110.069s\n",
      "  training loss (in-iteration): \t2.769835\n",
      "  validation accuracy: \t\t\t43.68 %\n",
      "  validation accuracy(ema): \t\t\t46.28 %\n"
     ]
    },
    {
     "name": "stderr",
     "output_type": "stream",
     "text": [
      "100%|██████████| 1563/1563 [01:38<00:00, 15.82it/s]\n"
     ]
    },
    {
     "name": "stdout",
     "output_type": "stream",
     "text": [
      "Epoch 20 of 30 took 108.864s\n",
      "  training loss (in-iteration): \t2.739445\n",
      "  validation accuracy: \t\t\t43.70 %\n",
      "  validation accuracy(ema): \t\t\t46.37 %\n"
     ]
    },
    {
     "name": "stderr",
     "output_type": "stream",
     "text": [
      "100%|██████████| 1563/1563 [01:39<00:00, 15.75it/s]\n"
     ]
    },
    {
     "name": "stdout",
     "output_type": "stream",
     "text": [
      "Epoch 21 of 30 took 109.109s\n",
      "  training loss (in-iteration): \t2.710600\n",
      "  validation accuracy: \t\t\t44.20 %\n",
      "  validation accuracy(ema): \t\t\t46.42 %\n"
     ]
    },
    {
     "name": "stderr",
     "output_type": "stream",
     "text": [
      "100%|██████████| 1563/1563 [01:39<00:00, 15.66it/s]\n"
     ]
    },
    {
     "name": "stdout",
     "output_type": "stream",
     "text": [
      "Epoch 22 of 30 took 109.909s\n",
      "  training loss (in-iteration): \t2.678750\n",
      "  validation accuracy: \t\t\t44.15 %\n",
      "  validation accuracy(ema): \t\t\t46.78 %\n"
     ]
    },
    {
     "name": "stderr",
     "output_type": "stream",
     "text": [
      "100%|██████████| 1563/1563 [01:39<00:00, 15.66it/s]\n"
     ]
    },
    {
     "name": "stdout",
     "output_type": "stream",
     "text": [
      "Epoch 23 of 30 took 109.885s\n",
      "  training loss (in-iteration): \t2.653934\n",
      "  validation accuracy: \t\t\t44.79 %\n",
      "  validation accuracy(ema): \t\t\t47.01 %\n"
     ]
    },
    {
     "name": "stderr",
     "output_type": "stream",
     "text": [
      "100%|██████████| 1563/1563 [01:40<00:00, 15.56it/s]\n"
     ]
    },
    {
     "name": "stdout",
     "output_type": "stream",
     "text": [
      "Epoch 24 of 30 took 110.668s\n",
      "  training loss (in-iteration): \t2.634644\n",
      "  validation accuracy: \t\t\t45.11 %\n",
      "  validation accuracy(ema): \t\t\t47.06 %\n"
     ]
    },
    {
     "name": "stderr",
     "output_type": "stream",
     "text": [
      "100%|██████████| 1563/1563 [01:40<00:00, 15.60it/s]\n"
     ]
    },
    {
     "name": "stdout",
     "output_type": "stream",
     "text": [
      "Epoch 25 of 30 took 110.329s\n",
      "  training loss (in-iteration): \t2.604761\n",
      "  validation accuracy: \t\t\t44.93 %\n",
      "  validation accuracy(ema): \t\t\t46.91 %\n"
     ]
    },
    {
     "name": "stderr",
     "output_type": "stream",
     "text": [
      "100%|██████████| 1563/1563 [01:39<00:00, 15.77it/s]\n"
     ]
    },
    {
     "name": "stdout",
     "output_type": "stream",
     "text": [
      "Epoch 26 of 30 took 108.962s\n",
      "  training loss (in-iteration): \t2.581512\n",
      "  validation accuracy: \t\t\t45.06 %\n",
      "  validation accuracy(ema): \t\t\t47.42 %\n"
     ]
    },
    {
     "name": "stderr",
     "output_type": "stream",
     "text": [
      "100%|██████████| 1563/1563 [01:40<00:00, 15.61it/s]\n"
     ]
    },
    {
     "name": "stdout",
     "output_type": "stream",
     "text": [
      "Epoch 27 of 30 took 110.041s\n",
      "  training loss (in-iteration): \t2.561598\n",
      "  validation accuracy: \t\t\t44.80 %\n",
      "  validation accuracy(ema): \t\t\t47.39 %\n"
     ]
    },
    {
     "name": "stderr",
     "output_type": "stream",
     "text": [
      "100%|██████████| 1563/1563 [01:39<00:00, 15.63it/s]\n"
     ]
    },
    {
     "name": "stdout",
     "output_type": "stream",
     "text": [
      "Epoch 28 of 30 took 110.040s\n",
      "  training loss (in-iteration): \t2.538950\n",
      "  validation accuracy: \t\t\t45.23 %\n",
      "  validation accuracy(ema): \t\t\t47.22 %\n"
     ]
    },
    {
     "name": "stderr",
     "output_type": "stream",
     "text": [
      "100%|██████████| 1563/1563 [01:39<00:00, 15.63it/s]\n"
     ]
    },
    {
     "name": "stdout",
     "output_type": "stream",
     "text": [
      "Epoch 29 of 30 took 110.073s\n",
      "  training loss (in-iteration): \t2.520295\n",
      "  validation accuracy: \t\t\t45.49 %\n",
      "  validation accuracy(ema): \t\t\t47.63 %\n"
     ]
    },
    {
     "name": "stderr",
     "output_type": "stream",
     "text": [
      "100%|██████████| 1563/1563 [01:39<00:00, 15.68it/s]\n"
     ]
    },
    {
     "name": "stdout",
     "output_type": "stream",
     "text": [
      "Epoch 30 of 30 took 109.685s\n",
      "  training loss (in-iteration): \t2.505491\n",
      "  validation accuracy: \t\t\t45.30 %\n",
      "  validation accuracy(ema): \t\t\t47.70 %\n",
      "Best model accuracy:  0.45491640127388533\n",
      "Best ema model accuracy:  0.47701035031847133\n"
     ]
    },
    {
     "data": {
      "image/png": "[encoded data removed]",
      "text/plain": [
       "<Figure size 640x480 with 1 Axes>"
      ]
     },
     "metadata": {},
     "output_type": "display_data"
    }
   ],
   "source": [
    "model = create_convnext_like_network(use_bn=True, drop_rate=0.1)\n",
    "model = model.to(device)\n",
    "ema_model = create_averaged_model(model)\n",
    "opt = torch.optim.Adam(model.parameters(), lr=0.001)\n",
    "train_metrics_ls, val_metrics_ls = train_loop(\n",
    "    model, opt, train_batch_gen, val_batch_gen, num_epochs=30, ema_model=ema_model, label_smoothing=0.1)"
   ]
  },
  {
   "cell_type": "markdown",
   "metadata": {},
   "source": [
    "Label smoothing should slightly improve quality on ~0.1-0.5%. It should be easier to see on plots:"
   ]
  },
  {
   "cell_type": "code",
   "execution_count": 37,
   "metadata": {
    "execution": {
     "iopub.execute_input": "2024-09-27T18:54:09.028052Z",
     "iopub.status.busy": "2024-09-27T18:54:09.026943Z",
     "iopub.status.idle": "2024-09-27T18:54:09.255671Z",
     "shell.execute_reply": "2024-09-27T18:54:09.254750Z",
     "shell.execute_reply.started": "2024-09-27T18:54:09.028004Z"
    },
    "tags": []
   },
   "outputs": [
    {
     "data": {
      "text/plain": [
       "(0.35, 0.55)"
      ]
     },
     "execution_count": 37,
     "metadata": {},
     "output_type": "execute_result"
    },
    {
     "data": {
      "image/png": "[encoded data removed]",
      "text/plain": [
       "<Figure size 640x480 with 1 Axes>"
      ]
     },
     "metadata": {},
     "output_type": "display_data"
    }
   ],
   "source": [
    "plt.plot(val_metrics_ema_bn['accuracy'], label='baseline')\n",
    "plt.plot(val_metrics_ema_bn['ema_model_accuracy'], label='ema_baseline')\n",
    "plt.plot(val_metrics_droppath['accuracy'], label='droppath')\n",
    "plt.plot(val_metrics_droppath['ema_model_accuracy'], label='ema_droppath')\n",
    "plt.plot(val_metrics_ls['accuracy'], label='label smoothing')\n",
    "plt.plot(val_metrics_ls['ema_model_accuracy'], label='ema label smoothing')\n",
    "plt.grid()\n",
    "plt.legend(loc='best')\n",
    "plt.ylim([0.35, 0.55])"
   ]
  },
  {
   "cell_type": "markdown",
   "metadata": {},
   "source": [
    "## 4.4 LayerNorm vs BatchNorm"
   ]
  },
  {
   "cell_type": "code",
   "execution_count": null,
   "metadata": {
    "execution": {
     "iopub.execute_input": "2024-09-27T15:38:54.141178Z",
     "iopub.status.busy": "2024-09-27T15:38:54.139898Z",
     "iopub.status.idle": "2024-09-27T16:32:52.536853Z"
    },
    "tags": []
   },
   "outputs": [
    {
     "name": "stderr",
     "output_type": "stream",
     "text": [
      "100%|██████████| 1563/1563 [01:42<00:00, 15.20it/s]\n"
     ]
    },
    {
     "name": "stdout",
     "output_type": "stream",
     "text": [
      "Epoch 1 of 30 took 107.273s\n",
      "  training loss (in-iteration): \t4.903094\n",
      "  validation accuracy: \t\t\t7.78 %\n",
      "  validation accuracy(ema): \t\t\t2.33 %\n"
     ]
    },
    {
     "name": "stderr",
     "output_type": "stream",
     "text": [
      "100%|██████████| 1563/1563 [01:41<00:00, 15.33it/s]\n"
     ]
    },
    {
     "name": "stdout",
     "output_type": "stream",
     "text": [
      "Epoch 2 of 30 took 106.364s\n",
      "  training loss (in-iteration): \t4.280402\n",
      "  validation accuracy: \t\t\t13.49 %\n",
      "  validation accuracy(ema): \t\t\t10.40 %\n"
     ]
    },
    {
     "name": "stderr",
     "output_type": "stream",
     "text": [
      "100%|██████████| 1563/1563 [01:42<00:00, 15.23it/s]\n"
     ]
    },
    {
     "name": "stdout",
     "output_type": "stream",
     "text": [
      "Epoch 3 of 30 took 107.068s\n",
      "  training loss (in-iteration): \t3.906489\n",
      "  validation accuracy: \t\t\t18.32 %\n",
      "  validation accuracy(ema): \t\t\t17.45 %\n"
     ]
    },
    {
     "name": "stderr",
     "output_type": "stream",
     "text": [
      "100%|██████████| 1563/1563 [01:41<00:00, 15.34it/s]\n"
     ]
    },
    {
     "name": "stdout",
     "output_type": "stream",
     "text": [
      "Epoch 4 of 30 took 106.330s\n",
      "  training loss (in-iteration): \t3.659631\n",
      "  validation accuracy: \t\t\t21.40 %\n",
      "  validation accuracy(ema): \t\t\t22.53 %\n"
     ]
    },
    {
     "name": "stderr",
     "output_type": "stream",
     "text": [
      "100%|██████████| 1563/1563 [01:41<00:00, 15.36it/s]\n"
     ]
    },
    {
     "name": "stdout",
     "output_type": "stream",
     "text": [
      "Epoch 5 of 30 took 106.241s\n",
      "  training loss (in-iteration): \t3.472430\n",
      "  validation accuracy: \t\t\t25.03 %\n",
      "  validation accuracy(ema): \t\t\t25.97 %\n"
     ]
    },
    {
     "name": "stderr",
     "output_type": "stream",
     "text": [
      "100%|██████████| 1563/1563 [01:43<00:00, 15.14it/s]\n"
     ]
    },
    {
     "name": "stdout",
     "output_type": "stream",
     "text": [
      "Epoch 6 of 30 took 107.684s\n",
      "  training loss (in-iteration): \t3.304498\n",
      "  validation accuracy: \t\t\t26.97 %\n",
      "  validation accuracy(ema): \t\t\t28.91 %\n"
     ]
    },
    {
     "name": "stderr",
     "output_type": "stream",
     "text": [
      "100%|██████████| 1563/1563 [01:43<00:00, 15.05it/s]\n"
     ]
    },
    {
     "name": "stdout",
     "output_type": "stream",
     "text": [
      "Epoch 7 of 30 took 108.320s\n",
      "  training loss (in-iteration): \t3.163919\n",
      "  validation accuracy: \t\t\t30.30 %\n",
      "  validation accuracy(ema): \t\t\t31.36 %\n"
     ]
    },
    {
     "name": "stderr",
     "output_type": "stream",
     "text": [
      "100%|██████████| 1563/1563 [01:43<00:00, 15.08it/s]\n"
     ]
    },
    {
     "name": "stdout",
     "output_type": "stream",
     "text": [
      "Epoch 8 of 30 took 108.143s\n",
      "  training loss (in-iteration): \t3.037970\n",
      "  validation accuracy: \t\t\t31.33 %\n",
      "  validation accuracy(ema): \t\t\t33.51 %\n"
     ]
    },
    {
     "name": "stderr",
     "output_type": "stream",
     "text": [
      "100%|██████████| 1563/1563 [01:43<00:00, 15.04it/s]\n"
     ]
    },
    {
     "name": "stdout",
     "output_type": "stream",
     "text": [
      "Epoch 9 of 30 took 108.361s\n",
      "  training loss (in-iteration): \t2.931314\n",
      "  validation accuracy: \t\t\t32.91 %\n",
      "  validation accuracy(ema): \t\t\t35.46 %\n"
     ]
    },
    {
     "name": "stderr",
     "output_type": "stream",
     "text": [
      "100%|██████████| 1563/1563 [01:43<00:00, 15.15it/s]\n"
     ]
    },
    {
     "name": "stdout",
     "output_type": "stream",
     "text": [
      "Epoch 10 of 30 took 107.622s\n",
      "  training loss (in-iteration): \t2.834561\n",
      "  validation accuracy: \t\t\t34.61 %\n",
      "  validation accuracy(ema): \t\t\t36.98 %\n"
     ]
    },
    {
     "name": "stderr",
     "output_type": "stream",
     "text": [
      "100%|██████████| 1563/1563 [01:42<00:00, 15.18it/s]\n"
     ]
    },
    {
     "name": "stdout",
     "output_type": "stream",
     "text": [
      "Epoch 11 of 30 took 107.398s\n",
      "  training loss (in-iteration): \t2.743095\n",
      "  validation accuracy: \t\t\t35.39 %\n",
      "  validation accuracy(ema): \t\t\t38.24 %\n"
     ]
    },
    {
     "name": "stderr",
     "output_type": "stream",
     "text": [
      "100%|██████████| 1563/1563 [01:42<00:00, 15.22it/s]\n"
     ]
    },
    {
     "name": "stdout",
     "output_type": "stream",
     "text": [
      "Epoch 12 of 30 took 107.181s\n",
      "  training loss (in-iteration): \t2.658690\n",
      "  validation accuracy: \t\t\t37.24 %\n",
      "  validation accuracy(ema): \t\t\t39.36 %\n"
     ]
    },
    {
     "name": "stderr",
     "output_type": "stream",
     "text": [
      "100%|██████████| 1563/1563 [01:43<00:00, 15.03it/s]\n"
     ]
    },
    {
     "name": "stdout",
     "output_type": "stream",
     "text": [
      "Epoch 13 of 30 took 108.445s\n",
      "  training loss (in-iteration): \t2.588493\n",
      "  validation accuracy: \t\t\t37.92 %\n",
      "  validation accuracy(ema): \t\t\t40.17 %\n"
     ]
    },
    {
     "name": "stderr",
     "output_type": "stream",
     "text": [
      "100%|██████████| 1563/1563 [01:43<00:00, 15.14it/s]\n"
     ]
    },
    {
     "name": "stdout",
     "output_type": "stream",
     "text": [
      "Epoch 14 of 30 took 107.675s\n",
      "  training loss (in-iteration): \t2.512667\n",
      "  validation accuracy: \t\t\t39.25 %\n",
      "  validation accuracy(ema): \t\t\t41.38 %\n"
     ]
    },
    {
     "name": "stderr",
     "output_type": "stream",
     "text": [
      "100%|██████████| 1563/1563 [01:45<00:00, 14.79it/s]\n"
     ]
    },
    {
     "name": "stdout",
     "output_type": "stream",
     "text": [
      "Epoch 15 of 30 took 110.190s\n",
      "  training loss (in-iteration): \t2.449548\n",
      "  validation accuracy: \t\t\t39.41 %\n",
      "  validation accuracy(ema): \t\t\t41.85 %\n"
     ]
    },
    {
     "name": "stderr",
     "output_type": "stream",
     "text": [
      "100%|██████████| 1563/1563 [01:46<00:00, 14.68it/s]\n"
     ]
    },
    {
     "name": "stdout",
     "output_type": "stream",
     "text": [
      "Epoch 16 of 30 took 110.968s\n",
      "  training loss (in-iteration): \t2.386406\n",
      "  validation accuracy: \t\t\t39.68 %\n",
      "  validation accuracy(ema): \t\t\t42.56 %\n"
     ]
    },
    {
     "name": "stderr",
     "output_type": "stream",
     "text": [
      "100%|██████████| 1563/1563 [01:46<00:00, 14.67it/s]\n"
     ]
    },
    {
     "name": "stdout",
     "output_type": "stream",
     "text": [
      "Epoch 17 of 30 took 110.999s\n",
      "  training loss (in-iteration): \t2.332097\n",
      "  validation accuracy: \t\t\t40.16 %\n",
      "  validation accuracy(ema): \t\t\t43.37 %\n"
     ]
    },
    {
     "name": "stderr",
     "output_type": "stream",
     "text": [
      "100%|██████████| 1563/1563 [01:45<00:00, 14.87it/s]\n"
     ]
    },
    {
     "name": "stdout",
     "output_type": "stream",
     "text": [
      "Epoch 18 of 30 took 109.583s\n",
      "  training loss (in-iteration): \t2.271340\n",
      "  validation accuracy: \t\t\t41.08 %\n",
      "  validation accuracy(ema): \t\t\t43.85 %\n"
     ]
    },
    {
     "name": "stderr",
     "output_type": "stream",
     "text": [
      "100%|██████████| 1563/1563 [01:43<00:00, 15.11it/s]\n"
     ]
    },
    {
     "name": "stdout",
     "output_type": "stream",
     "text": [
      "Epoch 19 of 30 took 107.900s\n",
      "  training loss (in-iteration): \t2.221097\n",
      "  validation accuracy: \t\t\t41.89 %\n",
      "  validation accuracy(ema): \t\t\t44.45 %\n"
     ]
    },
    {
     "name": "stderr",
     "output_type": "stream",
     "text": [
      "100%|██████████| 1563/1563 [01:42<00:00, 15.21it/s]\n"
     ]
    },
    {
     "name": "stdout",
     "output_type": "stream",
     "text": [
      "Epoch 20 of 30 took 107.233s\n",
      "  training loss (in-iteration): \t2.170844\n",
      "  validation accuracy: \t\t\t41.70 %\n",
      "  validation accuracy(ema): \t\t\t44.64 %\n"
     ]
    },
    {
     "name": "stderr",
     "output_type": "stream",
     "text": [
      "100%|██████████| 1563/1563 [01:43<00:00, 15.16it/s]\n"
     ]
    },
    {
     "name": "stdout",
     "output_type": "stream",
     "text": [
      "Epoch 21 of 30 took 107.548s\n",
      "  training loss (in-iteration): \t2.125800\n",
      "  validation accuracy: \t\t\t41.89 %\n",
      "  validation accuracy(ema): \t\t\t44.98 %\n"
     ]
    },
    {
     "name": "stderr",
     "output_type": "stream",
     "text": [
      "100%|██████████| 1563/1563 [01:43<00:00, 15.07it/s]\n"
     ]
    },
    {
     "name": "stdout",
     "output_type": "stream",
     "text": [
      "Epoch 22 of 30 took 108.195s\n",
      "  training loss (in-iteration): \t2.081018\n",
      "  validation accuracy: \t\t\t42.64 %\n",
      "  validation accuracy(ema): \t\t\t45.52 %\n"
     ]
    },
    {
     "name": "stderr",
     "output_type": "stream",
     "text": [
      "100%|██████████| 1563/1563 [01:43<00:00, 15.13it/s]\n"
     ]
    },
    {
     "name": "stdout",
     "output_type": "stream",
     "text": [
      "Epoch 23 of 30 took 107.711s\n",
      "  training loss (in-iteration): \t2.041409\n",
      "  validation accuracy: \t\t\t43.00 %\n",
      "  validation accuracy(ema): \t\t\t45.25 %\n"
     ]
    },
    {
     "name": "stderr",
     "output_type": "stream",
     "text": [
      "100%|██████████| 1563/1563 [01:43<00:00, 15.12it/s]\n"
     ]
    },
    {
     "name": "stdout",
     "output_type": "stream",
     "text": [
      "Epoch 24 of 30 took 107.828s\n",
      "  training loss (in-iteration): \t1.998399\n",
      "  validation accuracy: \t\t\t43.08 %\n",
      "  validation accuracy(ema): \t\t\t45.38 %\n"
     ]
    },
    {
     "name": "stderr",
     "output_type": "stream",
     "text": [
      "100%|██████████| 1563/1563 [01:43<00:00, 15.05it/s]\n"
     ]
    },
    {
     "name": "stdout",
     "output_type": "stream",
     "text": [
      "Epoch 25 of 30 took 108.285s\n",
      "  training loss (in-iteration): \t1.960014\n",
      "  validation accuracy: \t\t\t43.40 %\n",
      "  validation accuracy(ema): \t\t\t45.58 %\n"
     ]
    },
    {
     "name": "stderr",
     "output_type": "stream",
     "text": [
      "100%|██████████| 1563/1563 [01:43<00:00, 15.06it/s]\n"
     ]
    },
    {
     "name": "stdout",
     "output_type": "stream",
     "text": [
      "Epoch 26 of 30 took 108.244s\n",
      "  training loss (in-iteration): \t1.920038\n",
      "  validation accuracy: \t\t\t43.30 %\n",
      "  validation accuracy(ema): \t\t\t45.63 %\n"
     ]
    },
    {
     "name": "stderr",
     "output_type": "stream",
     "text": [
      "100%|██████████| 1563/1563 [01:43<00:00, 15.17it/s]\n"
     ]
    },
    {
     "name": "stdout",
     "output_type": "stream",
     "text": [
      "Epoch 27 of 30 took 107.475s\n",
      "  training loss (in-iteration): \t1.881847\n",
      "  validation accuracy: \t\t\t42.55 %\n",
      "  validation accuracy(ema): \t\t\t45.75 %\n"
     ]
    },
    {
     "name": "stderr",
     "output_type": "stream",
     "text": [
      "100%|██████████| 1563/1563 [01:42<00:00, 15.22it/s]\n"
     ]
    },
    {
     "name": "stdout",
     "output_type": "stream",
     "text": [
      "Epoch 28 of 30 took 107.177s\n",
      "  training loss (in-iteration): \t1.846959\n",
      "  validation accuracy: \t\t\t43.00 %\n",
      "  validation accuracy(ema): \t\t\t45.93 %\n"
     ]
    },
    {
     "name": "stderr",
     "output_type": "stream",
     "text": [
      "100%|██████████| 1563/1563 [01:43<00:00, 15.15it/s]\n"
     ]
    },
    {
     "name": "stdout",
     "output_type": "stream",
     "text": [
      "Epoch 29 of 30 took 107.578s\n",
      "  training loss (in-iteration): \t1.814577\n",
      "  validation accuracy: \t\t\t43.25 %\n",
      "  validation accuracy(ema): \t\t\t45.60 %\n"
     ]
    },
    {
     "name": "stderr",
     "output_type": "stream",
     "text": [
      "100%|██████████| 1563/1563 [01:42<00:00, 15.22it/s]\n"
     ]
    },
    {
     "name": "stdout",
     "output_type": "stream",
     "text": [
      "Epoch 30 of 30 took 107.134s\n",
      "  training loss (in-iteration): \t1.780726\n",
      "  validation accuracy: \t\t\t42.82 %\n",
      "  validation accuracy(ema): \t\t\t45.84 %\n",
      "Best model accuracy:  0.43401671974522293\n",
      "Best ema model accuracy:  0.4592953821656051\n"
     ]
    },
    {
     "data": {
      "image/png": "[encoded data removed]",
      "text/plain": [
       "<Figure size 640x480 with 1 Axes>"
      ]
     },
     "metadata": {},
     "output_type": "display_data"
    }
   ],
   "source": [
    "model = create_convnext_like_network(use_bn=False, drop_rate=0.1)\n",
    "model = model.to(device)\n",
    "ema_model = create_averaged_model(model)\n",
    "opt = torch.optim.Adam(model.parameters(), lr=0.001)\n",
    "train_metrics_ln, val_metrics_ln = train_loop(model, opt, train_batch_gen, val_batch_gen, num_epochs=30, ema_model=ema_model)"
   ]
  },
  {
   "cell_type": "code",
   "execution_count": 38,
   "metadata": {
    "execution": {
     "iopub.execute_input": "2024-09-27T18:54:25.090188Z",
     "iopub.status.busy": "2024-09-27T18:54:25.089177Z",
     "iopub.status.idle": "2024-09-27T18:54:25.368231Z",
     "shell.execute_reply": "2024-09-27T18:54:25.367418Z",
     "shell.execute_reply.started": "2024-09-27T18:54:25.090144Z"
    },
    "tags": []
   },
   "outputs": [
    {
     "data": {
      "text/plain": [
       "(0.35, 0.55)"
      ]
     },
     "execution_count": 38,
     "metadata": {},
     "output_type": "execute_result"
    },
    {
     "data": {
      "image/png": "[encoded data removed]",
      "text/plain": [
       "<Figure size 640x480 with 1 Axes>"
      ]
     },
     "metadata": {},
     "output_type": "display_data"
    }
   ],
   "source": [
    "plt.plot(val_metrics_ema_bn['accuracy'], label='baseline')\n",
    "plt.plot(val_metrics_ema_bn['ema_model_accuracy'], label='ema_baseline')\n",
    "plt.plot(val_metrics_droppath['accuracy'], label='droppath')\n",
    "plt.plot(val_metrics_droppath['ema_model_accuracy'], label='ema_droppath')\n",
    "plt.plot(val_metrics_ls['accuracy'], label='label smoothing')\n",
    "plt.plot(val_metrics_ls['ema_model_accuracy'], label='ema label smoothing')\n",
    "plt.plot(val_metrics_ln['accuracy'], label='layer norm')\n",
    "plt.plot(val_metrics_ln['ema_model_accuracy'], label='ema layer norm')\n",
    "plt.grid()\n",
    "plt.legend(loc='best')\n",
    "plt.ylim([0.35, 0.55])"
   ]
  },
  {
   "cell_type": "markdown",
   "metadata": {},
   "source": [
    "With layer norm more likely you will see here a drop in accuracy on ~2% (or even more) comparing to the second experiment. But it doesn't mean that ConvNeXt authors were wrong on the replacing of batch norm with layer norm. Note that their training settings were different (batch size = 4k, multi-host training, larger dataset and model, longer training etc; see appendix A in the paper). There is more like an example that batch norm is still be usefull in 2020s in some tasks."
   ]
  },
  {
   "cell_type": "markdown",
   "metadata": {},
   "source": [
    "### What's next?\n",
    "- We didn't used advanced augmentations (cutmix, randaugment etc) and some good stuff in optimization (AdamW, warm-up, cosine scheduler). But we will discuss it in seminar 3. See you there!\n",
    "- We didn't check that stage ratio 1:1:3:1 really helps because we are limited by available hw for experiments. But feel free to play with architecture config if you have fast enough gpu.\n",
    "- You may check ConvNeXt v2 architecture: \"ConvNeXt V2: Co-designing and Scaling ConvNets with Masked Autoencoders\" https://arxiv.org/abs/2301.00808"
   ]
  },
  {
   "cell_type": "markdown",
   "metadata": {},
   "source": [
    "## References\n",
    "- ConvNeXt architecture: \"A ConvNet for the 2020s\" https://arxiv.org/abs/2201.03545\n",
    "- ConvNeXt implementation in pytorch: https://github.com/facebookresearch/ConvNeXt/tree/main\n",
    "- LayerNorm: \"Layer Normalization\" https://arxiv.org/abs/1607.06450\n",
    "- Model averaging: \"Averaging Weights Leads to Wider Optima and Better Generalization\" https://arxiv.org/abs/1803.05407\n",
    "- Model averaging in pytorch: https://pytorch.org/docs/stable/optim.html#weight-averaging-swa-and-ema\n",
    "- LayerScale: \"Going deeper with Image Transformers\" https://openaccess.thecvf.com/content/ICCV2021/papers/Touvron_Going_Deeper_With_Image_Transformers_ICCV_2021_paper.pdf\n",
    "- Stochastic Depth: \"Deep Networks with Stochastic Depth\" https://arxiv.org/abs/1603.09382\n",
    "- Label smooting: \"Rethinking the Inception Architecture for Computer Vision\" https://arxiv.org/abs/1512.00567\n",
    "- Depth-wise separable convolutions: \"MobileNets: Efficient Convolutional Neural Networks for Mobile Vision Applications\" https://arxiv.org/abs/1704.04861\n",
    "- Inverted bottlenacks: \"MobileNetV2: Inverted Residuals and Linear Bottlenecks\" https://arxiv.org/abs/1801.04381\n",
    "- New iteration on the architecture: \"ConvNeXt V2: Co-designing and Scaling ConvNets with Masked Autoencoders\" https://arxiv.org/abs/2301.00808"
   ]
  },
  {
   "cell_type": "code",
   "execution_count": null,
   "metadata": {},
   "outputs": [],
   "source": []
  }
 ],
 "metadata": {
  "accelerator": "GPU",
  "colab": {
   "name": "seminar_pytorch.ipynb",
   "provenance": [],
   "toc_visible": true
  },
  "kernelspec": {
   "display_name": "DataSphere Kernel",
   "language": "python",
   "name": "python3"
  },
  "language_info": {
   "codemirror_mode": {
    "name": "ipython",
    "version": 3
   },
   "file_extension": ".py",
   "mimetype": "text/x-python",
   "name": "python",
   "nbconvert_exporter": "python",
   "pygments_lexer": "ipython3",
   "version": "3.10.12"
  },
  "notebookId": "0bd81ca7-4175-4905-a84c-21ed8da72299"
 },
 "nbformat": 4,
 "nbformat_minor": 4
}
